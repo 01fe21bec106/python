{
  "cells": [
    {
      "cell_type": "code",
      "execution_count": null,
      "metadata": {
        "colab": {
          "base_uri": "https://localhost:8080/"
        },
        "id": "xVWTrWfBSIvu",
        "outputId": "6ffa46a4-8683-449a-bf40-782f53f368b0"
      },
      "outputs": [
        {
          "output_type": "stream",
          "name": "stdout",
          "text": [
            "<class 'float'>\n",
            "<class 'int'>\n"
          ]
        }
      ],
      "source": [
        "\n",
        "x=4.9\n",
        "y=9\n",
        "print(type(x))\n",
        "print(type(y))\n",
        "\n"
      ]
    },
    {
      "cell_type": "markdown",
      "source": [
        "flower"
      ],
      "metadata": {
        "id": "XRDlMou5qZLV"
      }
    },
    {
      "cell_type": "code",
      "source": [
        "import numpy as np\n",
        "nm=np.array([1,2,2,4,5])\n",
        "print(nm)\n",
        "\n"
      ],
      "metadata": {
        "colab": {
          "base_uri": "https://localhost:8080/"
        },
        "id": "YWhlbI4Dn_QQ",
        "outputId": "d0db583d-f47b-4bb1-9644-38510e53df57"
      },
      "execution_count": null,
      "outputs": [
        {
          "output_type": "stream",
          "name": "stdout",
          "text": [
            "[1 2 2 4 5]\n"
          ]
        }
      ]
    },
    {
      "cell_type": "markdown",
      "source": [],
      "metadata": {
        "id": "KZEFHZIMvtfN"
      }
    },
    {
      "cell_type": "code",
      "source": [
        "!pip3 install ColabTurtle\n",
        "from ColabTurtle.Turtle import *\n"
      ],
      "metadata": {
        "colab": {
          "base_uri": "https://localhost:8080/"
        },
        "id": "b5cU7WNivty8",
        "outputId": "17caa0ff-7bd4-497c-f58f-5e987e79b5dd"
      },
      "execution_count": null,
      "outputs": [
        {
          "output_type": "stream",
          "name": "stdout",
          "text": [
            "Requirement already satisfied: ColabTurtle in /usr/local/lib/python3.10/dist-packages (2.1.0)\n"
          ]
        }
      ]
    },
    {
      "cell_type": "markdown",
      "source": [
        "flower"
      ],
      "metadata": {
        "id": "ghchqlPNwPKL"
      }
    },
    {
      "cell_type": "code",
      "source": [
        "!pip3 install ColabTurtle"
      ],
      "metadata": {
        "colab": {
          "base_uri": "https://localhost:8080/"
        },
        "id": "j_ZiTUo6xfrG",
        "outputId": "a43990f9-c5cf-48b5-9b07-0dac95198d51"
      },
      "execution_count": null,
      "outputs": [
        {
          "output_type": "stream",
          "name": "stdout",
          "text": [
            "Requirement already satisfied: ColabTurtle in /usr/local/lib/python3.10/dist-packages (2.1.0)\n"
          ]
        }
      ]
    },
    {
      "cell_type": "code",
      "source": [
        "import ColabTurtle.Turtle as lia\n",
        "lia.initializeTurtle(initial_speed=8)\n",
        "lia.color('blue')\n",
        "lia.forword(40)\n",
        "lia.right(45)\n",
        "lia.color('red')\n",
        "lia.forword(50)"
      ],
      "metadata": {
        "colab": {
          "base_uri": "https://localhost:8080/",
          "height": 749
        },
        "id": "X9x6E5TSwQiy",
        "outputId": "d67f740f-04d2-41c7-ff6e-9a9d9da60d19"
      },
      "execution_count": null,
      "outputs": [
        {
          "output_type": "display_data",
          "data": {
            "text/plain": [
              "<IPython.core.display.HTML object>"
            ],
            "text/html": [
              "\n",
              "      <svg width=\"800\" height=\"500\">\n",
              "        <rect width=\"100%\" height=\"100%\" fill=\"black\"/>\n",
              "        \n",
              "        <g visibility=visible transform=\"rotate(360,400,250) translate(382, 232)\">\n",
              "<path style=\" stroke:none;fill-rule:evenodd;fill:blue;fill-opacity:1;\" d=\"M 18.214844 0.632812 C 16.109375 1.800781 15.011719 4.074219 15.074219 7.132812 L 15.085938 7.652344 L 14.785156 7.496094 C 13.476562 6.824219 11.957031 6.671875 10.40625 7.066406 C 8.46875 7.550781 6.515625 9.15625 4.394531 11.992188 C 3.0625 13.777344 2.679688 14.636719 3.042969 15.027344 L 3.15625 15.152344 L 3.519531 15.152344 C 4.238281 15.152344 4.828125 14.886719 8.1875 13.039062 C 9.386719 12.378906 10.371094 11.839844 10.378906 11.839844 C 10.386719 11.839844 10.355469 11.929688 10.304688 12.035156 C 9.832031 13.09375 9.257812 14.820312 8.96875 16.078125 C 7.914062 20.652344 8.617188 24.53125 11.070312 27.660156 C 11.351562 28.015625 11.363281 27.914062 10.972656 28.382812 C 8.925781 30.84375 7.945312 33.28125 8.238281 35.1875 C 8.289062 35.527344 8.28125 35.523438 8.917969 35.523438 C 10.941406 35.523438 13.074219 34.207031 15.136719 31.6875 C 15.359375 31.417969 15.328125 31.425781 15.5625 31.574219 C 16.292969 32.042969 18.023438 32.964844 18.175781 32.964844 C 18.335938 32.964844 19.941406 32.210938 20.828125 31.71875 C 20.996094 31.625 21.136719 31.554688 21.136719 31.558594 C 21.203125 31.664062 21.898438 32.414062 22.222656 32.730469 C 23.835938 34.300781 25.5625 35.132812 27.582031 35.300781 C 27.90625 35.328125 27.9375 35.308594 28.007812 34.984375 C 28.382812 33.242188 27.625 30.925781 25.863281 28.425781 L 25.542969 27.96875 L 25.699219 27.785156 C 28.945312 23.960938 29.132812 18.699219 26.257812 11.96875 L 26.207031 11.84375 L 27.945312 12.703125 C 31.53125 14.476562 32.316406 14.800781 33.03125 14.800781 C 33.976562 14.800781 33.78125 13.9375 32.472656 12.292969 C 28.519531 7.355469 25.394531 5.925781 21.921875 7.472656 L 21.558594 7.636719 L 21.578125 7.542969 C 21.699219 6.992188 21.761719 5.742188 21.699219 5.164062 C 21.496094 3.296875 20.664062 1.964844 19.003906 0.855469 C 18.480469 0.503906 18.457031 0.5 18.214844 0.632812\"/>\n",
              "</g>\n",
              "      </svg>\n",
              "    "
            ]
          },
          "metadata": {}
        },
        {
          "output_type": "error",
          "ename": "AttributeError",
          "evalue": "ignored",
          "traceback": [
            "\u001b[0;31m---------------------------------------------------------------------------\u001b[0m",
            "\u001b[0;31mAttributeError\u001b[0m                            Traceback (most recent call last)",
            "\u001b[0;32m<ipython-input-49-935f4fede1b4>\u001b[0m in \u001b[0;36m<cell line: 4>\u001b[0;34m()\u001b[0m\n\u001b[1;32m      2\u001b[0m \u001b[0mlia\u001b[0m\u001b[0;34m.\u001b[0m\u001b[0minitializeTurtle\u001b[0m\u001b[0;34m(\u001b[0m\u001b[0minitial_speed\u001b[0m\u001b[0;34m=\u001b[0m\u001b[0;36m8\u001b[0m\u001b[0;34m)\u001b[0m\u001b[0;34m\u001b[0m\u001b[0;34m\u001b[0m\u001b[0m\n\u001b[1;32m      3\u001b[0m \u001b[0mlia\u001b[0m\u001b[0;34m.\u001b[0m\u001b[0mcolor\u001b[0m\u001b[0;34m(\u001b[0m\u001b[0;34m'blue'\u001b[0m\u001b[0;34m)\u001b[0m\u001b[0;34m\u001b[0m\u001b[0;34m\u001b[0m\u001b[0m\n\u001b[0;32m----> 4\u001b[0;31m \u001b[0mlia\u001b[0m\u001b[0;34m.\u001b[0m\u001b[0mforword\u001b[0m\u001b[0;34m(\u001b[0m\u001b[0;36m40\u001b[0m\u001b[0;34m)\u001b[0m\u001b[0;34m\u001b[0m\u001b[0;34m\u001b[0m\u001b[0m\n\u001b[0m\u001b[1;32m      5\u001b[0m \u001b[0mlia\u001b[0m\u001b[0;34m.\u001b[0m\u001b[0mright\u001b[0m\u001b[0;34m(\u001b[0m\u001b[0;36m45\u001b[0m\u001b[0;34m)\u001b[0m\u001b[0;34m\u001b[0m\u001b[0;34m\u001b[0m\u001b[0m\n\u001b[1;32m      6\u001b[0m \u001b[0mlia\u001b[0m\u001b[0;34m.\u001b[0m\u001b[0mcolor\u001b[0m\u001b[0;34m(\u001b[0m\u001b[0;34m'red'\u001b[0m\u001b[0;34m)\u001b[0m\u001b[0;34m\u001b[0m\u001b[0;34m\u001b[0m\u001b[0m\n",
            "\u001b[0;31mAttributeError\u001b[0m: module 'ColabTurtle.Turtle' has no attribute 'forword'"
          ]
        }
      ]
    },
    {
      "cell_type": "markdown",
      "source": [
        "circle"
      ],
      "metadata": {
        "id": "XDrq-7JhxyVN"
      }
    },
    {
      "cell_type": "code",
      "source": [
        "import turtle\n",
        "t=turtle.Turtle()\n",
        "r=50\n",
        "t.circle(r)"
      ],
      "metadata": {
        "colab": {
          "base_uri": "https://localhost:8080/",
          "height": 373
        },
        "id": "oEQB68wpxzu6",
        "outputId": "c7b5117b-ca74-4b82-e412-840a10d10102"
      },
      "execution_count": null,
      "outputs": [
        {
          "output_type": "error",
          "ename": "TclError",
          "evalue": "ignored",
          "traceback": [
            "\u001b[0;31m---------------------------------------------------------------------------\u001b[0m",
            "\u001b[0;31mTclError\u001b[0m                                  Traceback (most recent call last)",
            "\u001b[0;32m<ipython-input-50-b9846548b7ce>\u001b[0m in \u001b[0;36m<cell line: 2>\u001b[0;34m()\u001b[0m\n\u001b[1;32m      1\u001b[0m \u001b[0;32mimport\u001b[0m \u001b[0mturtle\u001b[0m\u001b[0;34m\u001b[0m\u001b[0;34m\u001b[0m\u001b[0m\n\u001b[0;32m----> 2\u001b[0;31m \u001b[0mt\u001b[0m\u001b[0;34m=\u001b[0m\u001b[0mturtle\u001b[0m\u001b[0;34m.\u001b[0m\u001b[0mTurtle\u001b[0m\u001b[0;34m(\u001b[0m\u001b[0;34m)\u001b[0m\u001b[0;34m\u001b[0m\u001b[0;34m\u001b[0m\u001b[0m\n\u001b[0m\u001b[1;32m      3\u001b[0m \u001b[0mr\u001b[0m\u001b[0;34m=\u001b[0m\u001b[0;36m50\u001b[0m\u001b[0;34m\u001b[0m\u001b[0;34m\u001b[0m\u001b[0m\n\u001b[1;32m      4\u001b[0m \u001b[0mt\u001b[0m\u001b[0;34m.\u001b[0m\u001b[0mcircle\u001b[0m\u001b[0;34m(\u001b[0m\u001b[0mr\u001b[0m\u001b[0;34m)\u001b[0m\u001b[0;34m\u001b[0m\u001b[0;34m\u001b[0m\u001b[0m\n",
            "\u001b[0;32m/usr/lib/python3.10/turtle.py\u001b[0m in \u001b[0;36m__init__\u001b[0;34m(self, shape, undobuffersize, visible)\u001b[0m\n\u001b[1;32m   3812\u001b[0m                  visible=_CFG[\"visible\"]):\n\u001b[1;32m   3813\u001b[0m         \u001b[0;32mif\u001b[0m \u001b[0mTurtle\u001b[0m\u001b[0;34m.\u001b[0m\u001b[0m_screen\u001b[0m \u001b[0;32mis\u001b[0m \u001b[0;32mNone\u001b[0m\u001b[0;34m:\u001b[0m\u001b[0;34m\u001b[0m\u001b[0;34m\u001b[0m\u001b[0m\n\u001b[0;32m-> 3814\u001b[0;31m             \u001b[0mTurtle\u001b[0m\u001b[0;34m.\u001b[0m\u001b[0m_screen\u001b[0m \u001b[0;34m=\u001b[0m \u001b[0mScreen\u001b[0m\u001b[0;34m(\u001b[0m\u001b[0;34m)\u001b[0m\u001b[0;34m\u001b[0m\u001b[0;34m\u001b[0m\u001b[0m\n\u001b[0m\u001b[1;32m   3815\u001b[0m         RawTurtle.__init__(self, Turtle._screen,\n\u001b[1;32m   3816\u001b[0m                            \u001b[0mshape\u001b[0m\u001b[0;34m=\u001b[0m\u001b[0mshape\u001b[0m\u001b[0;34m,\u001b[0m\u001b[0;34m\u001b[0m\u001b[0;34m\u001b[0m\u001b[0m\n",
            "\u001b[0;32m/usr/lib/python3.10/turtle.py\u001b[0m in \u001b[0;36mScreen\u001b[0;34m()\u001b[0m\n\u001b[1;32m   3662\u001b[0m     else return the existing one.\"\"\"\n\u001b[1;32m   3663\u001b[0m     \u001b[0;32mif\u001b[0m \u001b[0mTurtle\u001b[0m\u001b[0;34m.\u001b[0m\u001b[0m_screen\u001b[0m \u001b[0;32mis\u001b[0m \u001b[0;32mNone\u001b[0m\u001b[0;34m:\u001b[0m\u001b[0;34m\u001b[0m\u001b[0;34m\u001b[0m\u001b[0m\n\u001b[0;32m-> 3664\u001b[0;31m         \u001b[0mTurtle\u001b[0m\u001b[0;34m.\u001b[0m\u001b[0m_screen\u001b[0m \u001b[0;34m=\u001b[0m \u001b[0m_Screen\u001b[0m\u001b[0;34m(\u001b[0m\u001b[0;34m)\u001b[0m\u001b[0;34m\u001b[0m\u001b[0;34m\u001b[0m\u001b[0m\n\u001b[0m\u001b[1;32m   3665\u001b[0m     \u001b[0;32mreturn\u001b[0m \u001b[0mTurtle\u001b[0m\u001b[0;34m.\u001b[0m\u001b[0m_screen\u001b[0m\u001b[0;34m\u001b[0m\u001b[0;34m\u001b[0m\u001b[0m\n\u001b[1;32m   3666\u001b[0m \u001b[0;34m\u001b[0m\u001b[0m\n",
            "\u001b[0;32m/usr/lib/python3.10/turtle.py\u001b[0m in \u001b[0;36m__init__\u001b[0;34m(self)\u001b[0m\n\u001b[1;32m   3678\u001b[0m         \u001b[0;31m# preserved (perhaps by passing it as an optional parameter)\u001b[0m\u001b[0;34m\u001b[0m\u001b[0;34m\u001b[0m\u001b[0m\n\u001b[1;32m   3679\u001b[0m         \u001b[0;32mif\u001b[0m \u001b[0m_Screen\u001b[0m\u001b[0;34m.\u001b[0m\u001b[0m_root\u001b[0m \u001b[0;32mis\u001b[0m \u001b[0;32mNone\u001b[0m\u001b[0;34m:\u001b[0m\u001b[0;34m\u001b[0m\u001b[0;34m\u001b[0m\u001b[0m\n\u001b[0;32m-> 3680\u001b[0;31m             \u001b[0m_Screen\u001b[0m\u001b[0;34m.\u001b[0m\u001b[0m_root\u001b[0m \u001b[0;34m=\u001b[0m \u001b[0mself\u001b[0m\u001b[0;34m.\u001b[0m\u001b[0m_root\u001b[0m \u001b[0;34m=\u001b[0m \u001b[0m_Root\u001b[0m\u001b[0;34m(\u001b[0m\u001b[0;34m)\u001b[0m\u001b[0;34m\u001b[0m\u001b[0;34m\u001b[0m\u001b[0m\n\u001b[0m\u001b[1;32m   3681\u001b[0m             \u001b[0mself\u001b[0m\u001b[0;34m.\u001b[0m\u001b[0m_root\u001b[0m\u001b[0;34m.\u001b[0m\u001b[0mtitle\u001b[0m\u001b[0;34m(\u001b[0m\u001b[0m_Screen\u001b[0m\u001b[0;34m.\u001b[0m\u001b[0m_title\u001b[0m\u001b[0;34m)\u001b[0m\u001b[0;34m\u001b[0m\u001b[0;34m\u001b[0m\u001b[0m\n\u001b[1;32m   3682\u001b[0m             \u001b[0mself\u001b[0m\u001b[0;34m.\u001b[0m\u001b[0m_root\u001b[0m\u001b[0;34m.\u001b[0m\u001b[0mondestroy\u001b[0m\u001b[0;34m(\u001b[0m\u001b[0mself\u001b[0m\u001b[0;34m.\u001b[0m\u001b[0m_destroy\u001b[0m\u001b[0;34m)\u001b[0m\u001b[0;34m\u001b[0m\u001b[0;34m\u001b[0m\u001b[0m\n",
            "\u001b[0;32m/usr/lib/python3.10/turtle.py\u001b[0m in \u001b[0;36m__init__\u001b[0;34m(self)\u001b[0m\n\u001b[1;32m    433\u001b[0m     \u001b[0;34m\"\"\"Root class for Screen based on Tkinter.\"\"\"\u001b[0m\u001b[0;34m\u001b[0m\u001b[0;34m\u001b[0m\u001b[0m\n\u001b[1;32m    434\u001b[0m     \u001b[0;32mdef\u001b[0m \u001b[0m__init__\u001b[0m\u001b[0;34m(\u001b[0m\u001b[0mself\u001b[0m\u001b[0;34m)\u001b[0m\u001b[0;34m:\u001b[0m\u001b[0;34m\u001b[0m\u001b[0;34m\u001b[0m\u001b[0m\n\u001b[0;32m--> 435\u001b[0;31m         \u001b[0mTK\u001b[0m\u001b[0;34m.\u001b[0m\u001b[0mTk\u001b[0m\u001b[0;34m.\u001b[0m\u001b[0m__init__\u001b[0m\u001b[0;34m(\u001b[0m\u001b[0mself\u001b[0m\u001b[0;34m)\u001b[0m\u001b[0;34m\u001b[0m\u001b[0;34m\u001b[0m\u001b[0m\n\u001b[0m\u001b[1;32m    436\u001b[0m \u001b[0;34m\u001b[0m\u001b[0m\n\u001b[1;32m    437\u001b[0m     \u001b[0;32mdef\u001b[0m \u001b[0msetupcanvas\u001b[0m\u001b[0;34m(\u001b[0m\u001b[0mself\u001b[0m\u001b[0;34m,\u001b[0m \u001b[0mwidth\u001b[0m\u001b[0;34m,\u001b[0m \u001b[0mheight\u001b[0m\u001b[0;34m,\u001b[0m \u001b[0mcwidth\u001b[0m\u001b[0;34m,\u001b[0m \u001b[0mcheight\u001b[0m\u001b[0;34m)\u001b[0m\u001b[0;34m:\u001b[0m\u001b[0;34m\u001b[0m\u001b[0;34m\u001b[0m\u001b[0m\n",
            "\u001b[0;32m/usr/lib/python3.10/tkinter/__init__.py\u001b[0m in \u001b[0;36m__init__\u001b[0;34m(self, screenName, baseName, className, useTk, sync, use)\u001b[0m\n\u001b[1;32m   2297\u001b[0m                 \u001b[0mbaseName\u001b[0m \u001b[0;34m=\u001b[0m \u001b[0mbaseName\u001b[0m \u001b[0;34m+\u001b[0m \u001b[0mext\u001b[0m\u001b[0;34m\u001b[0m\u001b[0;34m\u001b[0m\u001b[0m\n\u001b[1;32m   2298\u001b[0m         \u001b[0minteractive\u001b[0m \u001b[0;34m=\u001b[0m \u001b[0;32mFalse\u001b[0m\u001b[0;34m\u001b[0m\u001b[0;34m\u001b[0m\u001b[0m\n\u001b[0;32m-> 2299\u001b[0;31m         \u001b[0mself\u001b[0m\u001b[0;34m.\u001b[0m\u001b[0mtk\u001b[0m \u001b[0;34m=\u001b[0m \u001b[0m_tkinter\u001b[0m\u001b[0;34m.\u001b[0m\u001b[0mcreate\u001b[0m\u001b[0;34m(\u001b[0m\u001b[0mscreenName\u001b[0m\u001b[0;34m,\u001b[0m \u001b[0mbaseName\u001b[0m\u001b[0;34m,\u001b[0m \u001b[0mclassName\u001b[0m\u001b[0;34m,\u001b[0m \u001b[0minteractive\u001b[0m\u001b[0;34m,\u001b[0m \u001b[0mwantobjects\u001b[0m\u001b[0;34m,\u001b[0m \u001b[0museTk\u001b[0m\u001b[0;34m,\u001b[0m \u001b[0msync\u001b[0m\u001b[0;34m,\u001b[0m \u001b[0muse\u001b[0m\u001b[0;34m)\u001b[0m\u001b[0;34m\u001b[0m\u001b[0;34m\u001b[0m\u001b[0m\n\u001b[0m\u001b[1;32m   2300\u001b[0m         \u001b[0;32mif\u001b[0m \u001b[0museTk\u001b[0m\u001b[0;34m:\u001b[0m\u001b[0;34m\u001b[0m\u001b[0;34m\u001b[0m\u001b[0m\n\u001b[1;32m   2301\u001b[0m             \u001b[0mself\u001b[0m\u001b[0;34m.\u001b[0m\u001b[0m_loadtk\u001b[0m\u001b[0;34m(\u001b[0m\u001b[0;34m)\u001b[0m\u001b[0;34m\u001b[0m\u001b[0;34m\u001b[0m\u001b[0m\n",
            "\u001b[0;31mTclError\u001b[0m: no display name and no $DISPLAY environment variable"
          ]
        }
      ]
    },
    {
      "cell_type": "code",
      "source": [
        "import numpy as np\n",
        "n=np.ones(8)\n",
        "print(n)\n"
      ],
      "metadata": {
        "colab": {
          "base_uri": "https://localhost:8080/"
        },
        "id": "yp0TyB66oJGh",
        "outputId": "52958520-a17e-4ef4-84e3-2c97d636c5f3"
      },
      "execution_count": null,
      "outputs": [
        {
          "output_type": "stream",
          "name": "stdout",
          "text": [
            "[1. 1. 1. 1. 1. 1. 1. 1.]\n"
          ]
        }
      ]
    },
    {
      "cell_type": "code",
      "source": [
        "linear  y=mx+c"
      ],
      "metadata": {
        "id": "gGSFyarhohGh"
      },
      "execution_count": null,
      "outputs": []
    },
    {
      "cell_type": "code",
      "source": [
        "import pandas as pd\n",
        "import numpy as np\n",
        "import matplotlib.pyplot as plt\n",
        "x=np.linspace(0,1,10)\n",
        "m=0.6\n",
        "c=3\n",
        "y=(m*x)+c\n",
        "plt.plot(x,y)\n",
        "plt.show()"
      ],
      "metadata": {
        "colab": {
          "base_uri": "https://localhost:8080/",
          "height": 430
        },
        "id": "1COv67Xtoi7G",
        "outputId": "be4f1ced-9f28-425f-f483-eb12e0b05953"
      },
      "execution_count": null,
      "outputs": [
        {
          "output_type": "display_data",
          "data": {
            "text/plain": [
              "<Figure size 640x480 with 1 Axes>"
            ],
            "image/png": "[encoded data removed]"
          },
          "metadata": {}
        }
      ]
    },
    {
      "cell_type": "markdown",
      "source": [],
      "metadata": {
        "id": "TTLMSIGZogE1"
      }
    },
    {
      "cell_type": "code",
      "source": [],
      "metadata": {
        "id": "RfW7XDwQofqk"
      },
      "execution_count": null,
      "outputs": []
    },
    {
      "cell_type": "markdown",
      "metadata": {
        "id": "wt-fTCqRU5dq"
      },
      "source": [
        "csv file\n"
      ]
    },
    {
      "cell_type": "markdown",
      "metadata": {
        "id": "Gfjy1FH1Zo34"
      },
      "source": [
        "linear regression"
      ]
    },
    {
      "cell_type": "code",
      "execution_count": null,
      "metadata": {
        "colab": {
          "base_uri": "https://localhost:8080/",
          "height": 449
        },
        "id": "QqwhL8z7ZsRg",
        "outputId": "9a1a8c24-8282-468e-eb74-84dae4563145"
      },
      "outputs": [
        {
          "data": {
            "image/png": "[encoded data removed]",
            "text/plain": [
              "<Figure size 640x480 with 1 Axes>"
            ]
          },
          "metadata": {},
          "output_type": "display_data"
        }
      ],
      "source": [
        "import numpy as np\n",
        "import pandas as pd\n",
        "import matplotlib.pyplot as plt\n",
        "x=np.array([2,6,14,28,36,49]).reshape((-1,1))\n",
        "y=np.array([1,5,10,13,30,43])\n",
        "plt.scatter(x,y)\n",
        "plt.xlabel(\" x axis\")\n",
        "plt.ylabel(\"y axis\")\n",
        "plt.grid()\n",
        "plt.show()"
      ]
    },
    {
      "cell_type": "code",
      "execution_count": null,
      "metadata": {
        "colab": {
          "base_uri": "https://localhost:8080/",
          "height": 586
        },
        "id": "bF4b8GHdiR3F",
        "outputId": "12f92af7-a65b-4a36-a586-4e20283829ce"
      },
      "outputs": [
        {
          "name": "stdout",
          "output_type": "stream",
          "text": [
            "     x   y\n",
            "0    2   1\n",
            "1    9   7\n",
            "2   15  12\n",
            "3   29  25\n",
            "4   35  31\n",
            "5   49  39\n"
          ]
        },
        {
          "data": {
            "text/plain": [
              "[<matplotlib.lines.Line2D at 0x7cbbd429a800>,\n",
              " <matplotlib.lines.Line2D at 0x7cbbd429a860>]"
            ]
          },
          "execution_count": 28,
          "metadata": {},
          "output_type": "execute_result"
        },
        {
          "data": {
            "image/png": "[encoded data removed]",
            "text/plain": [
              "<Figure size 640x480 with 1 Axes>"
            ]
          },
          "metadata": {},
          "output_type": "display_data"
        }
      ],
      "source": [
        "import numpy as np\n",
        "import pandas as pd\n",
        "import matplotlib.pyplot as plt\n",
        "data=pd.read_csv('/content/drive/MyDrive/linear.csv')\n",
        "\n",
        "print(data)\n",
        "plt.plot(data)\n",
        "\n",
        "plt.xlabel(\"x\")\n",
        "plt.ylabel(\"Y\")"
      ]
    },
    {
      "cell_type": "markdown",
      "metadata": {
        "id": "fyfFNocuz7r8"
      },
      "source": [
        "find out common letter between two letter\n"
      ]
    },
    {
      "cell_type": "code",
      "execution_count": null,
      "metadata": {
        "colab": {
          "base_uri": "https://localhost:8080/"
        },
        "id": "sdKwjdm-_vvi",
        "outputId": "b0b61b45-3250-456f-e90f-c3c6893f2ed0"
      },
      "outputs": [
        {
          "name": "stdout",
          "output_type": "stream",
          "text": [
            "Enter the 1st string : rtedtfg\n",
            " Enter the 2nd string: 8jfthdsghnv\n",
            "{'r', 'd', 'e', 't', 'g', 'f'}\n",
            "{'n', 'h', 'd', 't', 's', 'v', 'g', 'j', '8', 'f'}\n",
            "6\n",
            "10\n",
            "{'t', 'g', 'f', 'd'}\n"
          ]
        }
      ],
      "source": [
        "87\n",
        "def common_letters():\n",
        "    s1=[]\n",
        "    s2=[]\n",
        "    n=input(\"Enter the 1st string : \")\n",
        "    m=input(\" Enter the 2nd string: \")\n",
        "    s1=set(n)\n",
        "    s2=set(m)\n",
        "    x=len(s1)\n",
        "    y=len(s2)\n",
        "    print(s1)\n",
        "    print(s2)\n",
        "    print(x)\n",
        "    print(y)\n",
        "    ls=s1 & s2\n",
        "    print(ls)\n",
        "\n",
        "\n",
        "common_letters()"
      ]
    },
    {
      "cell_type": "markdown",
      "metadata": {
        "id": "S_6lYkmEavir"
      },
      "source": [
        "print the number of frequency of a word"
      ]
    },
    {
      "cell_type": "code",
      "execution_count": null,
      "metadata": {
        "colab": {
          "base_uri": "https://localhost:8080/"
        },
        "id": "eHvJ21Jga0CF",
        "outputId": "133e1258-48f7-4cb4-e5ee-91001fb06db3"
      },
      "outputs": [
        {
          "name": "stdout",
          "output_type": "stream",
          "text": [
            "Enter the statement   shela is student and my fev student my besto one shela my fev\n",
            "['shela', 'is', 'student', 'and', 'my', 'fev', 'student', 'my', 'besto', 'one', 'shela', 'my', 'fev']\n",
            "{'shela': 2, 'is': 1, 'student': 2, 'and': 1, 'my': 3, 'fev': 2, 'besto': 1, 'one': 1}\n"
          ]
        }
      ],
      "source": [
        " n=input(\"Enter the statement   \")\n",
        " li=n.split()\n",
        " print(li)\n",
        " d={}\n",
        " for i in li:\n",
        "  if(i not in d.keys()):\n",
        "     d[i]=0\n",
        "  d[i]=d[i]+1\n",
        "print(d)\n"
      ]
    },
    {
      "cell_type": "code",
      "execution_count": null,
      "metadata": {
        "colab": {
          "base_uri": "https://localhost:8080/"
        },
        "id": "O3d_Ulvbp6Tq",
        "outputId": "1e08a90f-f062-4b37-bdd9-8810d69a966a"
      },
      "outputs": [
        {
          "name": "stdout",
          "output_type": "stream",
          "text": [
            "Enter the string:  sgegj srt sageu mu hdfs mu in  ytt in\n",
            "['sgegj', 'srt', 'sageu', 'mu', 'hdfs', 'mu', 'in', 'ytt', 'in']\n",
            "{'sgegj': 1, 'srt': 1, 'sageu': 1, 'mu': 2, 'hdfs': 1, 'in': 2, 'ytt': 1}\n"
          ]
        }
      ],
      "source": [
        "str=input(\"Enter the string:  \")\n",
        "li=str.split()\n",
        "print(li)\n",
        "d={}\n",
        "for i in li:\n",
        "    if(i not in d.keys()):\n",
        "        d[i]=0\n",
        "    d[i]=d[i]+1\n",
        "print(d)\n"
      ]
    },
    {
      "cell_type": "markdown",
      "metadata": {
        "id": "reHYdH3cdbEp"
      },
      "source": [
        "list to dict"
      ]
    },
    {
      "cell_type": "code",
      "execution_count": null,
      "metadata": {
        "colab": {
          "base_uri": "https://localhost:8080/"
        },
        "id": "zt1odcTRddFO",
        "outputId": "8bbb7460-93e9-4332-97c2-3492ce1da490"
      },
      "outputs": [
        {
          "name": "stdout",
          "output_type": "stream",
          "text": [
            "{1: 'one', 2: 'two', 3: 'three', 4: 'four', 5: 'five', 6: 'six'}\n"
          ]
        }
      ],
      "source": [
        "n=[1,2,3,4,5,6]\n",
        "m=[\"one\",\"two\",\"three\",\"four\",\"five\",\"six\"]\n",
        "r=dict(zip(n,m))\n",
        "print(r)"
      ]
    },
    {
      "cell_type": "markdown",
      "metadata": {
        "id": "hqfSrLX7d0C9"
      },
      "source": [
        "dict to touple"
      ]
    },
    {
      "cell_type": "code",
      "execution_count": null,
      "metadata": {
        "colab": {
          "base_uri": "https://localhost:8080/"
        },
        "id": "JorWTgddd13f",
        "outputId": "54a535a1-9773-43ab-d6d7-06086cff9a66"
      },
      "outputs": [
        {
          "name": "stdout",
          "output_type": "stream",
          "text": [
            "(1, 'one')\n",
            "(2, 'two')\n",
            "(3, 'three')\n",
            "(4, 'four')\n",
            "(5, 'five')\n",
            "(6, 'six')\n"
          ]
        }
      ],
      "source": [
        "n={1: 'one', 2: 'two', 3: 'three', 4: 'four', 5: 'five', 6: 'six'}\n",
        "for i in n.items():\n",
        "  print(i)"
      ]
    },
    {
      "cell_type": "markdown",
      "metadata": {
        "id": "P-ivTpt5AO8w"
      },
      "source": [
        "find missing number in an array\n"
      ]
    },
    {
      "cell_type": "code",
      "execution_count": null,
      "metadata": {
        "colab": {
          "base_uri": "https://localhost:8080/"
        },
        "id": "kg97yFvmAT03",
        "outputId": "510f8aec-6a05-495c-b4cd-cd1e7ca447b6"
      },
      "outputs": [
        {
          "name": "stdout",
          "output_type": "stream",
          "text": [
            "4\n"
          ]
        }
      ],
      "source": [
        "a=[1,2,3 ,5,6,7,8,9,10,11,12,13]\n",
        "n=a[-1]\n",
        "n=(n*(n+1))//2\n",
        "s=sum(a)\n",
        "m=n-s\n",
        "print(m)"
      ]
    },
    {
      "cell_type": "markdown",
      "metadata": {
        "id": "KVbY6gxCeHiQ"
      },
      "source": [
        "touple to list"
      ]
    },
    {
      "cell_type": "code",
      "execution_count": null,
      "metadata": {
        "colab": {
          "base_uri": "https://localhost:8080/"
        },
        "id": "GmSYJ4tFeJyQ",
        "outputId": "832a8203-e317-4b43-8156-54ba5ee08791"
      },
      "outputs": [
        {
          "name": "stdout",
          "output_type": "stream",
          "text": [
            "[1, 2, 3, 4, 5, 5]\n"
          ]
        }
      ],
      "source": [
        " n=(1,2,3,4,5,5)\n",
        "\n",
        " lis=list(n)\n",
        "print(lis)\n"
      ]
    },
    {
      "cell_type": "markdown",
      "metadata": {
        "id": "mHBP-U7xghcM"
      },
      "source": [
        "touple to dict"
      ]
    },
    {
      "cell_type": "code",
      "execution_count": null,
      "metadata": {
        "colab": {
          "base_uri": "https://localhost:8080/"
        },
        "id": "8iGKnPVrgjh9",
        "outputId": "8e69fa41-dcfa-4b27-f929-7d07c8f56fb7"
      },
      "outputs": [
        {
          "name": "stdout",
          "output_type": "stream",
          "text": [
            "{1: 'one', 2: 'two', 3: 'three', 4: 'four', 5: 'five', 6: 'six'}\n"
          ]
        }
      ],
      "source": [
        "n=(1,2,3,4,5,6)\n",
        "m=(\"one\",\"two\",\"three\",\"four\",\"five\",\"six\")\n",
        "r=dict(zip(n,m))\n",
        "print(r)"
      ]
    },
    {
      "cell_type": "markdown",
      "metadata": {
        "id": "6Bf1jgJyhDTG"
      },
      "source": [
        "dict to list"
      ]
    },
    {
      "cell_type": "code",
      "execution_count": null,
      "metadata": {
        "colab": {
          "base_uri": "https://localhost:8080/"
        },
        "id": "rHCgzj1PhFmu",
        "outputId": "60205a65-846c-4467-829b-d85006990316"
      },
      "outputs": [
        {
          "name": "stdout",
          "output_type": "stream",
          "text": [
            "[(1, 'one'), (2, 'two'), (3, 'three'), (4, 'four'), (5, 'five'), (6, 'six')]\n"
          ]
        }
      ],
      "source": [
        "r={1: 'one', 2: 'two', 3: 'three', 4: 'four', 5: 'five', 6: 'six'}\n",
        "a=r.items()\n",
        "m=list(a)\n",
        "print(m)"
      ]
    },
    {
      "cell_type": "markdown",
      "metadata": {
        "id": "h6UQZfSifV_2"
      },
      "source": [
        "list to touple\n"
      ]
    },
    {
      "cell_type": "code",
      "execution_count": null,
      "metadata": {
        "colab": {
          "base_uri": "https://localhost:8080/"
        },
        "id": "y_s3fFOtfYJl",
        "outputId": "dc820b8c-0a72-4c07-a226-6740644b85a4"
      },
      "outputs": [
        {
          "name": "stdout",
          "output_type": "stream",
          "text": [
            "('one', 'two', 'three', 'four', 'five', 'six')\n"
          ]
        }
      ],
      "source": [
        "n=[1,2,3,4,5,6,7,8,9]\n",
        "m=tuple(m)\n",
        "print(m)"
      ]
    },
    {
      "cell_type": "code",
      "execution_count": null,
      "metadata": {
        "colab": {
          "base_uri": "https://localhost:8080/"
        },
        "id": "dknk4gsa5ZeX",
        "outputId": "6dac5199-ef59-4fb5-f60d-3d2b7b3d6c3e"
      },
      "outputs": [
        {
          "name": "stdout",
          "output_type": "stream",
          "text": [
            "Enter the 1st string: efrffrfe\n",
            "Enter the 2nd string: 454gbsdf\n",
            "8\n",
            "8\n",
            "['e', 'f', 'r', 'f', 'f', 'r', 'f', 'e']\n",
            "['4', '5', '4', 'g', 'b', 's', 'd', 'f']\n",
            "The number of elements repeated: \n",
            "0\n"
          ]
        }
      ],
      "source": [
        "lis=[]\n",
        "lis2=[]\n",
        "n=input(\"Enter the 1st string: \")\n",
        "m=input(\"Enter the 2nd string: \")\n",
        "a=len(n)\n",
        "b=len(m)\n",
        "print(a)\n",
        "print(b)\n",
        "c=0\n",
        "\n",
        "for i in range(a):\n",
        "   lis.append(n[i])\n",
        "for j in range(b):\n",
        "    lis2.append(m[j])\n",
        "print(lis)\n",
        "print(lis2)\n",
        "for i in range(a):\n",
        "  for j in range(b):\n",
        "     if(lis[i]==lis2[i]):\n",
        "       print(lis[i])\n",
        "       c=c+1\n",
        "print(\"The number of elements repeated: \")\n",
        "print(c)"
      ]
    },
    {
      "cell_type": "markdown",
      "metadata": {
        "id": "iaP7chUr6AAr"
      },
      "source": [
        "finding missing number in an array\n"
      ]
    },
    {
      "cell_type": "code",
      "execution_count": null,
      "metadata": {
        "colab": {
          "base_uri": "https://localhost:8080/"
        },
        "id": "iIpTF90-6ElX",
        "outputId": "3d8f589f-e080-465d-d6dd-66cb814c8c72"
      },
      "outputs": [
        {
          "name": "stdout",
          "output_type": "stream",
          "text": [
            "Enter string : gadag\n",
            "5\n",
            "s p\n"
          ]
        }
      ],
      "source": [
        "arr=[]\n",
        "m=input(\"Enter string : \")\n",
        "a=len(m)\n",
        "arr=m\n",
        "f=1\n",
        "print(a)\n",
        "for i in range(a):\n",
        "  if(arr[i]==arr[-i-1]):\n",
        "     f=1\n",
        "  else:\n",
        "     f=0\n",
        "     break\n",
        "if(f==1):\n",
        "  print(\"s p\")\n",
        "\n",
        "else:\n",
        "  print(\"n p\")\n",
        "\n"
      ]
    },
    {
      "cell_type": "code",
      "execution_count": null,
      "metadata": {
        "colab": {
          "background_save": true,
          "base_uri": "https://localhost:8080/"
        },
        "id": "_DQAddHw2Zoj",
        "outputId": "e636f3f2-d369-49ce-98da-b641238d3942"
      },
      "outputs": [
        {
          "name": "stdout",
          "output_type": "stream",
          "text": [
            "1\n",
            "2\n",
            "3\n",
            "4\n",
            "5\n",
            "1\n",
            "2\n",
            "3\n",
            "4\n",
            "5\n"
          ]
        }
      ],
      "source": [
        "def number():\n",
        "  while(1):\n",
        "    n=int(input(\" enter  \"))\n",
        "    if(n==6):\n",
        "        for i in range(1,n):\n",
        "            print(i)\n",
        "            break\n",
        "number()"
      ]
    },
    {
      "cell_type": "code",
      "execution_count": null,
      "metadata": {
        "id": "SO541ERPigmf"
      },
      "outputs": [],
      "source": [
        "from google.colab import drive\n",
        "drive.mount('/content/drive')"
      ]
    },
    {
      "cell_type": "code",
      "execution_count": null,
      "metadata": {
        "colab": {
          "base_uri": "https://localhost:8080/",
          "height": 482
        },
        "id": "hfLCHSCmvY-H",
        "outputId": "405e81ec-e903-4515-a668-bdefa202b19d"
      },
      "outputs": [
        {
          "name": "stdout",
          "output_type": "stream",
          "text": [
            "MSE: 15.973107075518499\n",
            "intercept: -2.130693658827031\n",
            "slope: [0.85025305]\n"
          ]
        },
        {
          "data": {
            "image/png": "[encoded data removed]",
            "text/plain": [
              "<Figure size 640x480 with 1 Axes>"
            ]
          },
          "metadata": {},
          "output_type": "display_data"
        }
      ],
      "source": [
        "from sklearn.linear_model import LinearRegression\n",
        "SLR=LinearRegression()\n",
        "SLR.fit(x,y)\n",
        "pred=SLR.predict(x)\n",
        "from sklearn.metrics import mean_squared_error\n",
        "mse=mean_squared_error(y,pred)\n",
        "plt.plot(x,pred,color='RED',marker='*')\n",
        "print(\"MSE:\",mse)\n",
        "print(\"intercept:\",SLR.intercept_)\n",
        "print(\"slope:\",SLR.coef_)"
      ]
    },
    {
      "cell_type": "code",
      "execution_count": null,
      "metadata": {
        "colab": {
          "base_uri": "https://localhost:8080/"
        },
        "id": "E37axHT6U7Io",
        "outputId": "35af7a4c-3800-4a84-b28d-369b46d53b62"
      },
      "outputs": [
        {
          "name": "stdout",
          "output_type": "stream",
          "text": [
            "     Name  Salary  weight in kg   Height in meter\n",
            "0    viju    3000             38              5.7\n",
            "1    vinu    3050             39              6.0\n",
            "2    soni    2050             35              4.9\n",
            "3   arnav    3000             28              4.5\n",
            "4  chinni    4000             27              3.7\n",
            "5   appya    7000             20              3.3\n"
          ]
        }
      ],
      "source": [
        "import pandas as pd\n",
        "import numpy as np\n",
        "import matplotlib.pyplot as plt\n",
        "\n",
        "data=pd.read_csv('/content/drive/MyDrive/myyyy.csv')\n",
        "print(data)\n",
        "\n"
      ]
    },
    {
      "cell_type": "code",
      "execution_count": null,
      "metadata": {
        "colab": {
          "base_uri": "https://localhost:8080/"
        },
        "id": "Cg4NDJN8vgMN",
        "outputId": "86c74c35-21bf-4ae6-c4d2-7d41a904c61f"
      },
      "outputs": [
        {
          "name": "stdout",
          "output_type": "stream",
          "text": [
            "Mean:\n",
            "Salary             3683.333333\n",
            "weight in kg         31.166667\n",
            "Height in meter       4.683333\n",
            "dtype: float64\n"
          ]
        },
        {
          "name": "stderr",
          "output_type": "stream",
          "text": [
            "<ipython-input-30-a72567e44dc3>:2: FutureWarning: The default value of numeric_only in DataFrame.mean is deprecated. In a future version, it will default to False. In addition, specifying 'numeric_only=None' is deprecated. Select only valid columns or specify the value of numeric_only to silence this warning.\n",
            "  print(data.mean())\n"
          ]
        }
      ],
      "source": [
        "print(\"Mean:\")\n",
        "print(data.mean())"
      ]
    },
    {
      "cell_type": "code",
      "execution_count": null,
      "metadata": {
        "colab": {
          "base_uri": "https://localhost:8080/"
        },
        "id": "5nNK85EQv1Pb",
        "outputId": "ca3c7f36-66a9-444c-dfd1-4ca0302ecf6e"
      },
      "outputs": [
        {
          "name": "stdout",
          "output_type": "stream",
          "text": [
            "Median:\n",
            "Salary             3025.0\n",
            "weight in kg         31.5\n",
            "Height in meter       4.7\n",
            "dtype: float64\n"
          ]
        },
        {
          "name": "stderr",
          "output_type": "stream",
          "text": [
            "<ipython-input-31-77dcdd35469b>:2: FutureWarning: The default value of numeric_only in DataFrame.median is deprecated. In a future version, it will default to False. In addition, specifying 'numeric_only=None' is deprecated. Select only valid columns or specify the value of numeric_only to silence this warning.\n",
            "  print(data.median())\n"
          ]
        }
      ],
      "source": [
        "print(\"Median:\")\n",
        "print(data.median())"
      ]
    },
    {
      "cell_type": "code",
      "execution_count": null,
      "metadata": {
        "colab": {
          "base_uri": "https://localhost:8080/"
        },
        "id": "dNr2k2sbwXP-",
        "outputId": "563d5d1c-c46a-462e-b384-bfa9fee9dfff"
      },
      "outputs": [
        {
          "name": "stdout",
          "output_type": "stream",
          "text": [
            "Mode\n",
            "     Name  Salary  weight in kg   Height in meter\n",
            "0   appya  3000.0             20              3.3\n",
            "1   arnav     NaN             27              3.7\n",
            "2  chinni     NaN             28              4.5\n",
            "3    soni     NaN             35              4.9\n",
            "4    viju     NaN             38              5.7\n",
            "5    vinu     NaN             39              6.0\n"
          ]
        }
      ],
      "source": [
        "print(\"Mode\")\n",
        "print(data.mode())"
      ]
    },
    {
      "cell_type": "code",
      "execution_count": null,
      "metadata": {
        "colab": {
          "base_uri": "https://localhost:8080/",
          "height": 430
        },
        "id": "S5nuhzdgxHT_",
        "outputId": "50bc63cf-6e46-4871-f352-b890b12fd01e"
      },
      "outputs": [
        {
          "data": {
            "image/png": "[encoded data removed]",
            "text/plain": [
              "<Figure size 640x480 with 1 Axes>"
            ]
          },
          "metadata": {},
          "output_type": "display_data"
        }
      ],
      "source": [
        " a=data.plot(fig=(10,10))\n",
        " plt.show()"
      ]
    },
    {
      "cell_type": "markdown",
      "metadata": {
        "id": "mc05fhy_z90C"
      },
      "source": []
    },
    {
      "cell_type": "markdown",
      "metadata": {
        "id": "zxxlAW6SwyJR"
      },
      "source": [
        "lottery game"
      ]
    },
    {
      "cell_type": "code",
      "execution_count": null,
      "metadata": {
        "colab": {
          "base_uri": "https://localhost:8080/",
          "height": 933
        },
        "id": "rBxhhCL50CQT",
        "outputId": "c615b8b3-4ea2-4566-8b7f-cf8faf31a384"
      },
      "outputs": [
        {
          "name": "stdout",
          "output_type": "stream",
          "text": [
            "Enter between 1 to 9 :  5\n",
            "8\n",
            "5\n",
            "cp point\n",
            "Enter between 1 to 9 :  1\n",
            "8\n",
            "1\n",
            "cp point\n",
            "Enter between 1 to 9 :  8\n",
            "8\n",
            "8\n",
            "us point\n",
            "Enter between 1 to 9 :  2\n",
            "8\n",
            "2\n",
            "cp point\n",
            "Enter between 1 to 9 :  8\n",
            "8\n",
            "8\n",
            "us point\n",
            "Enter between 1 to 9 :  3\n",
            "8\n",
            "3\n",
            "cp point\n",
            "cp points:\n",
            "4\n",
            "us points:\n",
            "2\n",
            "cp won\n"
          ]
        },
        {
          "data": {
            "image/png": "[encoded data removed]",
            "text/plain": [
              "<Figure size 640x480 with 1 Axes>"
            ]
          },
          "metadata": {},
          "output_type": "display_data"
        }
      ],
      "source": [
        "import matplotlib.pyplot as plt\n",
        "\n",
        "import random\n",
        "cp=random.randint(1,9)\n",
        "a=0\n",
        "b=0\n",
        "for i in range(6):\n",
        "  us=int(input(\"Enter between 1 to 9 :  \"))\n",
        "  print(cp)\n",
        "  print(us)\n",
        "  if(cp>us):\n",
        "   print(\"cp point\")\n",
        "   a=a+1\n",
        "  elif(us>=cp):\n",
        "     print(\"us point\")\n",
        "     b=b+1\n",
        "  else:\n",
        "      print(\"error\")\n",
        "print(\"cp points:\")\n",
        "print(a)\n",
        "print(\"us points:\")\n",
        "print(b)\n",
        "if(a>b):\n",
        "  print(\"cp won\")\n",
        "elif(a<b):\n",
        "  print(\"us won\")\n",
        "else:\n",
        "  print(\"tie\")\n",
        "x=([\"cp\",\"us\"])\n",
        "y=([a,b])\n",
        "plt.bar(x,y,color=['green','red'])\n",
        "plt.show()\n",
        "\n",
        "\n",
        "\n"
      ]
    },
    {
      "cell_type": "markdown",
      "metadata": {
        "id": "oEVFNOAY_KsS"
      },
      "source": []
    },
    {
      "cell_type": "markdown",
      "metadata": {
        "id": "-xYbvklp_Kyk"
      },
      "source": [
        "Linear regression\n"
      ]
    },
    {
      "cell_type": "code",
      "execution_count": null,
      "metadata": {
        "colab": {
          "base_uri": "https://localhost:8080/",
          "height": 449
        },
        "id": "emsxZKEP_Npk",
        "outputId": "48cf492e-9a33-45c7-e122-078fd2376969"
      },
      "outputs": [
        {
          "data": {
            "image/png": "[encoded data removed]",
            "text/plain": [
              "<Figure size 640x480 with 1 Axes>"
            ]
          },
          "metadata": {},
          "output_type": "display_data"
        }
      ],
      "source": [
        "import pandas as pd\n",
        "import numpy as np\n",
        "import matplotlib.pyplot as plt\n",
        "x=np.array([3,16,27,38,42,45,67]).reshape((-1,1))\n",
        "y=np.array([1,5,6,8,11,23,45,])\n",
        "plt.scatter(x,y)\n",
        "plt.xlabel(\"IV\")\n",
        "plt.ylabel(\"DV\")\n",
        "plt.show()"
      ]
    },
    {
      "cell_type": "code",
      "execution_count": null,
      "metadata": {
        "id": "4wZQUI7JGgq4"
      },
      "outputs": [],
      "source": [
        "import pandas as pd\n",
        "import numpy as np\n",
        "import matplotlib.pyplot as mpl\n",
        "\n",
        "data=pd.read_csv('/content/drive/MyDrive/std_salary.csv')\n",
        "print(data.to_string)"
      ]
    },
    {
      "cell_type": "code",
      "execution_count": null,
      "metadata": {
        "id": "08gMxD04Gp49"
      },
      "outputs": [],
      "source": [
        "import pandas as pd\n",
        "import numpy as np\n",
        "import matplotlib.pyplot as mpl\n",
        "\n",
        "data=pd.read_csv('/content/drive/MyDrive/std_salary.csv')\n",
        "print(data.to_string)\n"
      ]
    },
    {
      "cell_type": "markdown",
      "metadata": {
        "id": "mt2yclI-d3P4"
      },
      "source": [
        "separate the odd and even numbers\n"
      ]
    },
    {
      "cell_type": "code",
      "execution_count": null,
      "metadata": {
        "colab": {
          "base_uri": "https://localhost:8080/"
        },
        "id": "WVaEYuNDd6jY",
        "outputId": "f472a168-0fe1-4510-95b1-fdb8dd67ec71"
      },
      "outputs": [
        {
          "name": "stdout",
          "output_type": "stream",
          "text": [
            "Enter the n value  7\n",
            " enter:  6\n",
            " enter:  9\n",
            " enter:  45\n",
            " enter:  4\n",
            " enter:  23\n",
            " enter:  12\n",
            " enter:  8\n",
            "[6, 4, 12, 8]\n",
            "[9, 45, 23]\n"
          ]
        }
      ],
      "source": [
        "\n",
        "arr1=[]\n",
        "arr2=[]\n",
        "n=int(input(\"Enter the n value  \"))\n",
        "for i in range(n):\n",
        "   x=int(input(\" enter:  \"))\n",
        "   if(x%2==0):\n",
        "    arr1.append(x)\n",
        "   else:\n",
        "    arr2.append(x)\n",
        "print(arr1)\n",
        "print(arr2)"
      ]
    },
    {
      "cell_type": "code",
      "execution_count": null,
      "metadata": {
        "colab": {
          "base_uri": "https://localhost:8080/"
        },
        "id": "IUnJwNiWHQwg",
        "outputId": "76423183-7d4e-4dba-9d3d-71bc3898fa09"
      },
      "outputs": [
        {
          "name": "stdout",
          "output_type": "stream",
          "text": [
            "<bound method DataFrame.to_string of       7  0  0.1  0.2  0.3  0.4  0.5  0.6  0.7  0.8  ...  0.658  0.659  0.660  \\\n",
            "0     2  0    0    0    0    0    0    0    0    0  ...      0      0      0   \n",
            "1     1  0    0    0    0    0    0    0    0    0  ...      0      0      0   \n",
            "2     0  0    0    0    0    0    0    0    0    0  ...      0      0      0   \n",
            "3     4  0    0    0    0    0    0    0    0    0  ...      0      0      0   \n",
            "4     1  0    0    0    0    0    0    0    0    0  ...      0      0      0   \n",
            "...  .. ..  ...  ...  ...  ...  ...  ...  ...  ...  ...    ...    ...    ...   \n",
            "9994  2  0    0    0    0    0    0    0    0    0  ...      0      0      0   \n",
            "9995  3  0    0    0    0    0    0    0    0    0  ...      0      0      0   \n",
            "9996  4  0    0    0    0    0    0    0    0    0  ...      0      0      0   \n",
            "9997  5  0    0    0    0    0    0    0    0    0  ...      0      0      0   \n",
            "9998  6  0    0    0    0    0    0    0    0    0  ...      0      0      0   \n",
            "\n",
            "      0.661  0.662  0.663  0.664  0.665  0.666  0.667  \n",
            "0         0      0      0      0      0      0      0  \n",
            "1         0      0      0      0      0      0      0  \n",
            "2         0      0      0      0      0      0      0  \n",
            "3         0      0      0      0      0      0      0  \n",
            "4         0      0      0      0      0      0      0  \n",
            "...     ...    ...    ...    ...    ...    ...    ...  \n",
            "9994      0      0      0      0      0      0      0  \n",
            "9995      0      0      0      0      0      0      0  \n",
            "9996      0      0      0      0      0      0      0  \n",
            "9997      0      0      0      0      0      0      0  \n",
            "9998      0      0      0      0      0      0      0  \n",
            "\n",
            "[9999 rows x 785 columns]>\n"
          ]
        }
      ],
      "source": [
        "import pandas as pd\n",
        "import numpy as np\n",
        "import matplotlib.pyplot as mpl\n",
        "\n",
        "data=pd.read_csv('/content/sample_data/mnist_test.csv')\n",
        "print(data.to_string)\n"
      ]
    },
    {
      "cell_type": "code",
      "execution_count": null,
      "metadata": {
        "colab": {
          "base_uri": "https://localhost:8080/",
          "height": 1000
        },
        "id": "OQxWLgm5Q46N",
        "outputId": "b88cec9e-5a56-4036-de20-0c5fb17b313e"
      },
      "outputs": [
        {
          "name": "stdout",
          "output_type": "stream",
          "text": [
            "Enter the number of games: 6\n",
            "Enter either rock, paper, or scissors: rock\n",
            "Computer chose: rock\n",
            "User wins: 0\n",
            "Computer wins: 0\n",
            "Ties: 1\n",
            "\n",
            "Enter either rock, paper, or scissors: paper\n",
            "Computer chose: scissors\n",
            "User wins: 0\n",
            "Computer wins: 1\n",
            "Ties: 1\n",
            "\n",
            "Enter either rock, paper, or scissors: scissors\n",
            "Computer chose: scissors\n",
            "User wins: 0\n",
            "Computer wins: 1\n",
            "Ties: 2\n",
            "\n",
            "Enter either rock, paper, or scissors: rock\n",
            "Computer chose: paper\n",
            "User wins: 0\n",
            "Computer wins: 2\n",
            "Ties: 2\n",
            "\n",
            "Enter either rock, paper, or scissors: paper\n",
            "Computer chose: paper\n",
            "User wins: 0\n",
            "Computer wins: 2\n",
            "Ties: 3\n",
            "\n",
            "Enter either rock, paper, or scissors: scissors\n",
            "Computer chose: rock\n",
            "User wins: 0\n",
            "Computer wins: 3\n",
            "Ties: 3\n",
            "\n"
          ]
        },
        {
          "data": {
            "image/png": "[encoded data removed]",
            "text/plain": [
              "<Figure size 640x480 with 1 Axes>"
            ]
          },
          "metadata": {},
          "output_type": "display_data"
        }
      ],
      "source": [
        "import random\n",
        "import matplotlib.pyplot as plt\n",
        "\n",
        "gamelist = ['rock', 'paper', 'scissors']\n",
        "comp_wins = 0\n",
        "user_wins = 0\n",
        "total_games = 0\n",
        "\n",
        "num_games = int(input(\"Enter the number of games: \"))\n",
        "success_rate_user = []\n",
        "success_rate_comp = []\n",
        "\n",
        "for _ in range(num_games):\n",
        "    comp = random.choice(gamelist)\n",
        "    user = input(\"Enter either rock, paper, or scissors: \")\n",
        "\n",
        "    total_games += 1\n",
        "\n",
        "    print(\"Computer chose:\", comp)\n",
        "\n",
        "    if (comp == \"rock\" and user == \"paper\") or (comp == \"paper\" and user == \"scissors\") or (comp == \"scissors\" and user == \"rock\"):\n",
        "        user_wins += 1\n",
        "    elif (user == \"rock\" and comp == \"paper\") or (user == \"paper\" and comp == \"scissors\") or (user == \"scissors\" and comp == \"rock\"):\n",
        "        comp_wins += 1\n",
        "\n",
        "    success_rate_user.append(user_wins / total_games)\n",
        "    success_rate_comp.append(comp_wins / total_games)\n",
        "\n",
        "    print(\"User wins:\", user_wins)\n",
        "    print(\"Computer wins:\", comp_wins)\n",
        "    print(\"Ties:\", total_games - (user_wins + comp_wins))\n",
        "    print()\n",
        "\n",
        "plt.plot(success_rate_user, label='User Success Rate', color='blue')\n",
        "plt.plot(success_rate_comp, label='Computer Success Rate', color='red')\n",
        "plt.xlabel('Games Played')\n",
        "plt.ylabel('Success Rate')\n",
        "plt.title('User vs Computer Success Rate')\n",
        "plt.legend()\n",
        "plt.show()\n",
        "\n",
        "\n"
      ]
    },
    {
      "cell_type": "code",
      "execution_count": null,
      "metadata": {
        "id": "9RjcUo3_SjIe"
      },
      "outputs": [],
      "source": [
        "import pandas as pd\n",
        "import numpy as np\n",
        "import matplotlib.pyplot as mpl\n",
        "\n",
        "data=pd.read_csv('/content/drive/MyDrive/ranking.csv')\n",
        "print(data.to_string)\n"
      ]
    },
    {
      "cell_type": "markdown",
      "metadata": {
        "id": "PEUvTc3CeoNR"
      },
      "source": [
        "check the palindrome"
      ]
    },
    {
      "cell_type": "code",
      "execution_count": null,
      "metadata": {
        "id": "ez4LAI04erEU"
      },
      "outputs": [],
      "source": [
        "arr=[]\n",
        "lis=[]\n",
        "n=input(\"Enter the string \")\n",
        "m=len(n)\n",
        "print(m)\n",
        "c=0\n",
        "for i in range(m):\n",
        "    lis.append(n[i])\n",
        "\n",
        "arr=lis\n",
        "print(arr)\n",
        "lis.reverse()\n",
        "print(lis)\n",
        "\n",
        "for i in range(m):\n",
        "\n",
        "   if(arr[i]==lis[-i]):\n",
        "     c=1\n",
        "     print(arr[i])\n",
        "\n",
        "   else:\n",
        "      c=0\n",
        "      break\n",
        "\n",
        "\n",
        "if(c==1):\n",
        "  print(\"Palindrome\")\n",
        "else:\n",
        "   print(\"NOT P\")\n",
        "\n",
        "\n"
      ]
    },
    {
      "cell_type": "markdown",
      "metadata": {
        "id": "isaPyAIAoWbO"
      },
      "source": [
        "prime\n"
      ]
    },
    {
      "cell_type": "code",
      "execution_count": 53,
      "metadata": {
        "id": "gtSWddOsqjij",
        "colab": {
          "base_uri": "https://localhost:8080/"
        },
        "outputId": "555ba531-5b7b-4780-dfbe-fa5115efd45e"
      },
      "outputs": [
        {
          "output_type": "stream",
          "name": "stdout",
          "text": [
            "enter the number 7\n",
            "*\n",
            "*\n",
            "*\n",
            "*\n",
            "*\n",
            "*\n",
            "*\n"
          ]
        }
      ],
      "source": [
        "n=int(input(\"enter the number \"))\n",
        "for i in range(n):\n",
        "   print('*')"
      ]
    },
    {
      "cell_type": "markdown",
      "metadata": {
        "id": "0KfMJDwQYizs"
      },
      "source": [
        "kwargs"
      ]
    },
    {
      "cell_type": "markdown",
      "metadata": {
        "id": "LdWiUymnGW5C"
      },
      "source": [
        "for loop"
      ]
    },
    {
      "cell_type": "code",
      "execution_count": null,
      "metadata": {
        "colab": {
          "base_uri": "https://localhost:8080/"
        },
        "id": "QjWiNTBWGZSd",
        "outputId": "16b172ef-0245-44d6-af43-52cdd7f103c9"
      },
      "outputs": [
        {
          "name": "stdout",
          "output_type": "stream",
          "text": [
            "2\n",
            "4\n",
            "6\n",
            "8\n",
            "10\n",
            "12\n",
            "14\n",
            "16\n",
            "18\n",
            "20\n"
          ]
        }
      ],
      "source": [
        "for i in range(2,22,2):\n",
        "     print(i)"
      ]
    },
    {
      "cell_type": "code",
      "execution_count": null,
      "metadata": {
        "colab": {
          "base_uri": "https://localhost:8080/"
        },
        "id": "qfLatEAZG8vI",
        "outputId": "c2e3b7d3-4f06-486d-83c5-bc01fbd59c0e"
      },
      "outputs": [
        {
          "name": "stdout",
          "output_type": "stream",
          "text": [
            "enter the number 2\n",
            "2 x 0 = 0\n",
            "2 x 1 = 2\n",
            "2 x 2 = 4\n",
            "2 x 3 = 6\n",
            "2 x 4 = 8\n",
            "2 x 5 = 10\n",
            "2 x 6 = 12\n",
            "2 x 7 = 14\n",
            "2 x 8 = 16\n",
            "2 x 9 = 18\n",
            "2 x 10 = 20\n"
          ]
        }
      ],
      "source": [
        "  n=int(input(\"enter the number \"))\n",
        "for i in range( 0,11):\n",
        "       c=n*i\n",
        "       print(n,'x',i,'=',c)\n",
        "\n"
      ]
    },
    {
      "cell_type": "markdown",
      "metadata": {
        "id": "PtkLPJnMu9q0"
      },
      "source": [
        "Nynmp"
      ]
    },
    {
      "cell_type": "code",
      "execution_count": null,
      "metadata": {
        "colab": {
          "background_save": true,
          "base_uri": "https://localhost:8080/"
        },
        "id": "S0bzL3ievJZ1",
        "outputId": "95790867-c601-4abe-c403-d79a6e15b019"
      },
      "outputs": [
        {
          "data": {
            "text/plain": [
              "array([[0., 0.],\n",
              "       [0., 0.],\n",
              "       [0., 0.]])"
            ]
          },
          "execution_count": 9,
          "metadata": {},
          "output_type": "execute_result"
        }
      ],
      "source": [
        "import numpy as np\n",
        "n1=np.zeros((1,2))\n",
        "n1"
      ]
    },
    {
      "cell_type": "markdown",
      "metadata": {
        "id": "K-flve_1JPIN"
      },
      "source": [
        "empty list creat"
      ]
    },
    {
      "cell_type": "code",
      "execution_count": null,
      "metadata": {
        "colab": {
          "base_uri": "https://localhost:8080/"
        },
        "id": "jmQSlzDJJf9d",
        "outputId": "56b122ab-56b3-4920-9d0d-75bd016d1245"
      },
      "outputs": [
        {
          "name": "stdout",
          "output_type": "stream",
          "text": [
            "Enter the value of n 3\n",
            "Enter the list element 45\n",
            "Enter the list element 7\n",
            "Enter the list element 9\n",
            "[45, 7, 9]\n"
          ]
        }
      ],
      "source": [
        "ist=[]\n",
        "n=int(input(\"Enter the value of n \"))\n",
        "for i in range(n):\n",
        "   x=int(input(\"Enter the list element \"))\n",
        "   ist.append(x)\n",
        "print(ist)"
      ]
    },
    {
      "cell_type": "code",
      "execution_count": null,
      "metadata": {
        "colab": {
          "base_uri": "https://localhost:8080/"
        },
        "id": "llfCD-A3K2nL",
        "outputId": "df8de8ef-c57a-41bc-d0f1-3c8c235ec351"
      },
      "outputs": [
        {
          "name": "stdout",
          "output_type": "stream",
          "text": [
            "Enter the n value 2\n",
            "enter the list sru\n",
            "['sru']\n",
            "hello sru  how area you\n",
            "enter the list su\n",
            "['sru', 'su']\n",
            "hello su  how area you\n"
          ]
        }
      ],
      "source": [
        "ist=[]\n",
        "n=int(input(\"Enter the n value \"))\n",
        "\n",
        "for i in range(n):\n",
        "  n1=input(\"enter the list \")\n",
        "  ist.append(n1)\n",
        "  print(ist)\n",
        "  print(\"hello\",ist[i],\" how area you\")\n"
      ]
    },
    {
      "cell_type": "code",
      "execution_count": null,
      "metadata": {
        "colab": {
          "base_uri": "https://localhost:8080/"
        },
        "id": "6x7i2Z8NMoWC",
        "outputId": "61278b9d-4b0e-4e50-f0cd-76aed2969a35"
      },
      "outputs": [
        {
          "name": "stdout",
          "output_type": "stream",
          "text": [
            "Enter the value of n    4\n",
            "enter the list element  sruu\n",
            "['sruu']\n",
            "enter the list element  suchiiii\n",
            "['sruu', 'suchiiii']\n",
            "enter the list element  panniiiii\n",
            "['sruu', 'suchiiii', 'panniiiii']\n",
            "enter the list element  asiiii\n",
            "['sruu', 'suchiiii', 'panniiiii', 'asiiii']\n",
            "HELLO sruu HOW ARE YOU\n",
            "HELLO suchiiii HOW ARE YOU\n",
            "HELLO panniiiii HOW ARE YOU\n",
            "HELLO asiiii HOW ARE YOU\n"
          ]
        }
      ],
      "source": [
        "ist =[]\n",
        "n=int(input(\"Enter the value of n   \"))\n",
        "for i in range(n):\n",
        "  x=input(\"enter the list element  \")\n",
        "  ist.append(x)\n",
        "  print(ist)\n",
        "for i in range(n):\n",
        "    print(\"HELLO\",ist[i],\"HOW ARE YOU\")"
      ]
    },
    {
      "cell_type": "markdown",
      "metadata": {
        "id": "dbklB6yxO0vw"
      },
      "source": [
        "if else statement\n",
        "marks grade"
      ]
    },
    {
      "cell_type": "code",
      "execution_count": null,
      "metadata": {
        "colab": {
          "base_uri": "https://localhost:8080/"
        },
        "id": "knXZiK3qO3Q6",
        "outputId": "e5eeead8-118a-4a97-cef0-eb98af261139"
      },
      "outputs": [
        {
          "name": "stdout",
          "output_type": "stream",
          "text": [
            "Ente ur marks  56\n",
            "D\n"
          ]
        }
      ],
      "source": [
        "n=int(input(\"Ente ur marks  \"))\n",
        "if(n>90):\n",
        "  print(\"S\")\n",
        "elif(n>80 and n<90):\n",
        "    print(\"A\")\n",
        "elif(n>70 and n<80):\n",
        "  print(\"B\")\n",
        "elif(n>60 and n<70):\n",
        "  print(\"C\")\n",
        "elif(n>50 and n<60):\n",
        "  print(\"D\")\n",
        "elif(n>40 and n<50):\n",
        "  print(\"E\")\n",
        "else:\n",
        "     print(\"Fail\")"
      ]
    },
    {
      "cell_type": "markdown",
      "metadata": {
        "id": "4bGICc0cP_T-"
      },
      "source": [
        "print odd and even number"
      ]
    },
    {
      "cell_type": "code",
      "execution_count": null,
      "metadata": {
        "colab": {
          "base_uri": "https://localhost:8080/"
        },
        "id": "kGy4yAllQDf-",
        "outputId": "647121dc-3dd4-4ff1-cc1d-d80ea2163cd5"
      },
      "outputs": [
        {
          "name": "stdout",
          "output_type": "stream",
          "text": [
            "10\n",
            "0\n",
            "1\n",
            "2\n",
            "3\n",
            "4\n",
            "5\n",
            "6\n",
            "7\n",
            "8\n",
            "9\n",
            "[0, 2, 4, 6, 8]\n",
            "[1, 3, 5, 7, 9]\n"
          ]
        }
      ],
      "source": [
        "ist=[1,2,3,4,5,6,7,8,9,10]\n",
        "od=[]\n",
        "even=[]\n",
        "n=len(ist)\n",
        "print(n)\n",
        "for i in range(n):\n",
        "   a=i\n",
        "   if(a % 2)==0:\n",
        "      print(a)\n",
        "      od.append(a)\n",
        "   else:\n",
        "      print(a)\n",
        "      even.append(a)\n",
        "\n",
        "print(od)\n",
        "print(even)"
      ]
    },
    {
      "cell_type": "code",
      "execution_count": null,
      "metadata": {
        "colab": {
          "base_uri": "https://localhost:8080/"
        },
        "id": "PIXRjq9_UKsg",
        "outputId": "bcd326a2-0ac9-4a7d-9593-260982dd5177"
      },
      "outputs": [
        {
          "name": "stdout",
          "output_type": "stream",
          "text": [
            "Enter a number: 67\n",
            "67 is odd\n"
          ]
        }
      ],
      "source": [
        "num = int(input(\"Enter a number: \"))\n",
        "if (num % 2) == 0:\n",
        "\n",
        "  print( num, \"is even\")\n",
        "else:\n",
        "   print(num,\"is odd\")"
      ]
    },
    {
      "cell_type": "markdown",
      "metadata": {
        "id": "VmNiBxl-VNuy"
      },
      "source": [
        "prime numbers\n"
      ]
    },
    {
      "cell_type": "markdown",
      "metadata": {
        "id": "hHuHNoMFclXG"
      },
      "source": [
        "print first 10 natural  numbers"
      ]
    },
    {
      "cell_type": "code",
      "execution_count": null,
      "metadata": {
        "colab": {
          "base_uri": "https://localhost:8080/"
        },
        "id": "4-TEawTgctJb",
        "outputId": "18fa1b15-c32b-43e9-9b66-6c23a1fc00fb"
      },
      "outputs": [
        {
          "name": "stdout",
          "output_type": "stream",
          "text": [
            "0\n",
            "1\n",
            "2\n",
            "3\n",
            "4\n",
            "5\n",
            "6\n",
            "7\n",
            "8\n",
            "9\n"
          ]
        }
      ],
      "source": [
        "for i in range(0,10):\n",
        "  print(i)"
      ]
    },
    {
      "cell_type": "markdown",
      "metadata": {
        "id": "Q4dXpnALc6Vc"
      },
      "source": [
        "print a fibonacci series"
      ]
    },
    {
      "cell_type": "code",
      "execution_count": null,
      "metadata": {
        "colab": {
          "base_uri": "https://localhost:8080/"
        },
        "id": "AKrHC8-nc_Q6",
        "outputId": "24aabdc6-a71b-4e1c-9f05-6d09c23e359b"
      },
      "outputs": [
        {
          "name": "stdout",
          "output_type": "stream",
          "text": [
            "Enter the numer of terms u want  10\n",
            "0\n",
            "1\n",
            "1\n",
            "2\n",
            "3\n",
            "5\n",
            "8\n",
            "13\n",
            "21\n",
            "34\n",
            "55\n",
            "89\n"
          ]
        }
      ],
      "source": [
        "a=0\n",
        "b=1\n",
        "n=int(input(\"Enter the numer of terms u want  \"))\n",
        "if(n<0):\n",
        " print(\"Please enter the positive number\")\n",
        "else:\n",
        "  print (a)\n",
        "  print(b)\n",
        "  for i in range(n):\n",
        "   c =a+b\n",
        "   print(c)\n",
        "   a=b\n",
        "   b=c\n",
        "\n",
        "\n",
        "\n",
        "\n"
      ]
    },
    {
      "cell_type": "markdown",
      "metadata": {
        "id": "5G0g6LlpWBUi"
      },
      "source": [
        "   function"
      ]
    },
    {
      "cell_type": "code",
      "execution_count": null,
      "metadata": {
        "colab": {
          "base_uri": "https://localhost:8080/"
        },
        "id": "0ETM-LeUWD-I",
        "outputId": "55826445-a16f-4402-c905-17cf5f779c5b"
      },
      "outputs": [
        {
          "name": "stdout",
          "output_type": "stream",
          "text": [
            "belgum\n",
            "belgum\n",
            "belgum\n",
            "3\n"
          ]
        }
      ],
      "source": [
        "places=[\"hubli\",\"belgum\",\"haveri\",\"kolapur\",\"belgum\",\"belgum\"]\n",
        "x=len(places)\n",
        "n=0\n",
        "for i in places:\n",
        "   if i==\"belgum\" :\n",
        "     print(i)\n",
        "     n=n+1\n",
        "print(n)"
      ]
    },
    {
      "cell_type": "markdown",
      "metadata": {
        "id": "RbMg2Rt_hbIw"
      },
      "source": [
        "factorial of 1st 10 odd numbers"
      ]
    },
    {
      "cell_type": "code",
      "execution_count": null,
      "metadata": {
        "colab": {
          "base_uri": "https://localhost:8080/"
        },
        "id": "BBhl9R2lhgPz",
        "outputId": "53a82fdd-0ce0-4751-9166-3d84968c778c"
      },
      "outputs": [
        {
          "name": "stdout",
          "output_type": "stream",
          "text": [
            "Enter the value of n  20\n",
            "1\n",
            "3\n",
            "5\n",
            "7\n",
            "9\n",
            "11\n",
            "13\n",
            "15\n",
            "17\n",
            "19\n",
            "[1, 3, 5, 7, 9, 11, 13, 15, 17, 19]\n",
            "10\n",
            "1\n",
            "6\n",
            "120\n",
            "5040\n",
            "362880\n",
            "39916800\n",
            "6227020800\n",
            "1307674368000\n",
            "355687428096000\n",
            "121645100408832000\n"
          ]
        }
      ],
      "source": [
        "ist=[]\n",
        "n=int(input(\"Enter the value of n  \"))\n",
        "for i in range(n):\n",
        "  if(i%2)!=0:\n",
        "    print(i)\n",
        "    ist.append(i)\n",
        "print(ist)\n",
        "f=1\n",
        "l=len(ist)\n",
        "print(l)\n",
        "for i in range (1,20):\n",
        "    f=f*i\n",
        "    if(i%2 !=0):\n",
        "     print(f)"
      ]
    },
    {
      "cell_type": "markdown",
      "metadata": {
        "id": "cQFUJse3lCGs"
      },
      "source": [
        "1st 10 odd numbers"
      ]
    },
    {
      "cell_type": "code",
      "execution_count": null,
      "metadata": {
        "colab": {
          "base_uri": "https://localhost:8080/"
        },
        "id": "Tb2u77OplEWQ",
        "outputId": "57db18d6-790c-4546-a739-2e8d77979bea"
      },
      "outputs": [
        {
          "name": "stdout",
          "output_type": "stream",
          "text": [
            "Enter the n value20\n",
            "1\n",
            "3\n",
            "5\n",
            "7\n",
            "9\n",
            "11\n",
            "13\n",
            "15\n",
            "17\n",
            "19\n"
          ]
        }
      ],
      "source": [
        "n=int(input(\"Enter the n value\"))\n",
        "for i in range(n):\n",
        "  if(i%2 !=0):\n",
        "     print(i)"
      ]
    },
    {
      "cell_type": "markdown",
      "metadata": {
        "id": "2vgDHlfLlRZ8"
      },
      "source": [
        "print 10 even numbers in reverse order\n"
      ]
    },
    {
      "cell_type": "code",
      "execution_count": null,
      "metadata": {
        "colab": {
          "base_uri": "https://localhost:8080/"
        },
        "id": "KUGSh1D5lVcb",
        "outputId": "a2b9f631-3bfa-4e6e-deed-b0f4ec9e6d2b"
      },
      "outputs": [
        {
          "name": "stdout",
          "output_type": "stream",
          "text": [
            "Enter the value of n 20\n",
            "[0, 2, 4, 6, 8, 10, 12, 14, 16, 18]\n",
            "[18, 16, 14, 12, 10, 8, 6, 4, 2, 0]\n"
          ]
        }
      ],
      "source": [
        "ist=[]\n",
        "n=int(input(\"Enter the value of n \"))\n",
        "for i in range(n):\n",
        "   if(i%2==0):\n",
        "     ist.append(i)\n",
        "print(ist)\n",
        "ln=len(ist)\n",
        "ln\n",
        "i=ln\n",
        "ist.reverse()\n",
        "print(ist)\n"
      ]
    },
    {
      "cell_type": "markdown",
      "metadata": {
        "id": "Z5K-cthynrUQ"
      },
      "source": [
        "half ascending and half descending\n"
      ]
    },
    {
      "cell_type": "code",
      "execution_count": null,
      "metadata": {
        "colab": {
          "base_uri": "https://localhost:8080/"
        },
        "id": "AuIpedXkn8f2",
        "outputId": "84469e41-71ba-4e3b-d00e-1d01ea951208"
      },
      "outputs": [
        {
          "name": "stdout",
          "output_type": "stream",
          "text": [
            "[1, 5, 3]\n",
            "   \n",
            "[8, 7, 9]\n",
            "   \n",
            "[1, 3, 5]\n",
            "  \n",
            "[9, 8, 7]\n",
            "[1, 3, 5, 9, 8, 7]\n"
          ]
        }
      ],
      "source": [
        "arr=[1,5,3,8,7,9]\n",
        "arr1=[]\n",
        "arr2=[]\n",
        "\n",
        "for i in range(0,3):\n",
        "  arr1.append(arr[i])\n",
        "for j in range(3,6):\n",
        "    arr2.append(arr[j])\n",
        "print(arr1)\n",
        "print(\"   \")\n",
        "print(arr2)\n",
        "print(\"   \")\n",
        "arr1.sort()\n",
        "arr2.sort()\n",
        "print(arr1)\n",
        "print(\"  \")\n",
        "arr2.reverse()\n",
        "print(arr2)\n",
        "\n",
        "arr=arr1+arr2\n",
        "print(arr)\n",
        "\n",
        "\n"
      ]
    },
    {
      "cell_type": "code",
      "execution_count": null,
      "metadata": {
        "colab": {
          "base_uri": "https://localhost:8080/"
        },
        "id": "zTIyA8iNe1s3",
        "outputId": "486d1e04-2662-4d6b-9036-d558a70ccb7d"
      },
      "outputs": [
        {
          "name": "stdout",
          "output_type": "stream",
          "text": [
            "3.7.1\n"
          ]
        }
      ],
      "source": [
        "import matplotlib\n",
        "print(matplotlib.__version__)"
      ]
    },
    {
      "cell_type": "code",
      "execution_count": null,
      "metadata": {
        "colab": {
          "base_uri": "https://localhost:8080/",
          "height": 447
        },
        "id": "jHhvpBN-fKUL",
        "outputId": "ff368864-d6a6-4410-9904-5a0d4cc1c281"
      },
      "outputs": [
        {
          "data": {
            "text/plain": [
              "<function matplotlib.pyplot.show(close=None, block=None)>"
            ]
          },
          "execution_count": 47,
          "metadata": {},
          "output_type": "execute_result"
        },
        {
          "data": {
            "image/png": "[encoded data removed]",
            "text/plain": [
              "<Figure size 640x480 with 1 Axes>"
            ]
          },
          "metadata": {},
          "output_type": "display_data"
        }
      ],
      "source": [
        "import matplotlib.pyplot as plt\n",
        "import numpy as np\n",
        "x=np.linspace(0,1,50)\n",
        "m=0.6\n",
        "c=25\n",
        "y=m*x+c\n",
        "plt.plot(x,y)\n",
        "plt.show"
      ]
    },
    {
      "cell_type": "code",
      "execution_count": null,
      "metadata": {
        "colab": {
          "base_uri": "https://localhost:8080/",
          "height": 430
        },
        "id": "zZE04eACgDvL",
        "outputId": "b772d05f-18da-4be9-8aeb-8170747d84f6"
      },
      "outputs": [
        {
          "data": {
            "image/png": "[encoded data removed]",
            "text/plain": [
              "<Figure size 640x480 with 1 Axes>"
            ]
          },
          "metadata": {},
          "output_type": "display_data"
        }
      ],
      "source": [
        "import matplotlib.pyplot as plt\n",
        "import numpy as np\n",
        "x=np.array([12,3,56,78,9,23,4,5])\n",
        "y=np.array([20,30,4,50,6,7,70,9])\n",
        "plt.plot(x,y)\n",
        "\n",
        "plt.show()"
      ]
    },
    {
      "cell_type": "code",
      "execution_count": null,
      "metadata": {
        "colab": {
          "base_uri": "https://localhost:8080/",
          "height": 430
        },
        "id": "9wgNNJ5dguOb",
        "outputId": "c9bf4544-6456-4320-940f-fcd235d86f2f"
      },
      "outputs": [
        {
          "data": {
            "image/png": "[encoded data removed]",
            "text/plain": [
              "<Figure size 640x480 with 1 Axes>"
            ]
          },
          "metadata": {},
          "output_type": "display_data"
        }
      ],
      "source": [
        "import matplotlib.pyplot as plt\n",
        "import numpy as np\n",
        "x=np.array([12,3,56,78,9,23,4,5])\n",
        "y=np.array([20,30,4,50,6,7,70,9])\n",
        "plt.plot(x,linestyle='dotted')\n",
        "#plt.plot(x,y)\n",
        "plt.grid()\n",
        "plt.show()"
      ]
    },
    {
      "cell_type": "code",
      "execution_count": null,
      "metadata": {
        "colab": {
          "base_uri": "https://localhost:8080/",
          "height": 430
        },
        "id": "K_n8TG_Rg6Lp",
        "outputId": "19f49658-c13c-4b68-f1a0-4552def0855f"
      },
      "outputs": [
        {
          "data": {
            "image/png": "[encoded data removed]",
            "text/plain": [
              "<Figure size 640x480 with 1 Axes>"
            ]
          },
          "metadata": {},
          "output_type": "display_data"
        }
      ],
      "source": [
        "import matplotlib.pyplot as plt\n",
        "import numpy as np\n",
        "x=np.array([92,23,94,75,66,78,9])\n",
        "y=np.array([63,45,96,77,8,99,1])\n",
        "plt.bar(x,y,color=['green','red','pink','orange','black','purple','green'])\n",
        "plt.show()"
      ]
    },
    {
      "cell_type": "code",
      "execution_count": null,
      "metadata": {
        "colab": {
          "base_uri": "https://localhost:8080/",
          "height": 406
        },
        "id": "0hvuU5BFhcoF",
        "outputId": "d5a5425c-4a2c-4afa-85ee-6fffe3995bc8"
      },
      "outputs": [
        {
          "data": {
            "image/png": "[encoded data removed]",
            "text/plain": [
              "<Figure size 640x480 with 1 Axes>"
            ]
          },
          "metadata": {},
          "output_type": "display_data"
        }
      ],
      "source": [
        "import matplotlib.pyplot as plt\n",
        "import numpy as np\n",
        "x=np.array([\"kar\",\"tm\",\"am\",\"pop\",\"ty\"])\n",
        "y=np.array([56,78,90,12,33])\n",
        "plt.pie(y)\n",
        "plt.show()\n"
      ]
    },
    {
      "cell_type": "code",
      "execution_count": null,
      "metadata": {
        "colab": {
          "base_uri": "https://localhost:8080/"
        },
        "id": "uT1NOL8qjIZ-",
        "outputId": "d3309fea-dcad-4461-adfc-c51af840e1de"
      },
      "outputs": [
        {
          "name": "stdout",
          "output_type": "stream",
          "text": [
            "f   NaN\n",
            "r   NaN\n",
            "t   NaN\n",
            "dtype: float64\n"
          ]
        }
      ],
      "source": [
        "import pandas as pd\n",
        "x=pd.Series({'a':10,'b':34,'c':78},index=['f','r','t'])\n",
        "print(x)"
      ]
    },
    {
      "cell_type": "code",
      "execution_count": null,
      "metadata": {
        "colab": {
          "base_uri": "https://localhost:8080/"
        },
        "id": "Rcfi51oprMFU",
        "outputId": "b564427b-7718-4c9d-9893-17cbb74afb8a"
      },
      "outputs": [
        {
          "name": "stdout",
          "output_type": "stream",
          "text": [
            "Enter :  7\n",
            "Enter :  4\n",
            "Enter :  7\n",
            "Enter :  0\n",
            "[5040, 24, 5040]\n"
          ]
        }
      ],
      "source": [
        "arr=[]\n",
        "while 1:\n",
        "    x=int(input(\"Enter :  \"))\n",
        "    if(x==0):\n",
        "      break\n",
        "    else:\n",
        "      f=1\n",
        "      for i in range(1,x+1):\n",
        "        f=f*i\n",
        "      arr.append(f)\n",
        "print(arr)\n"
      ]
    },
    {
      "cell_type": "code",
      "execution_count": null,
      "metadata": {
        "colab": {
          "base_uri": "https://localhost:8080/"
        },
        "id": "Kj42CcgScKJm",
        "outputId": "641e7b7b-ac84-4f5c-a50b-046f02a7831c"
      },
      "outputs": [
        {
          "name": "stdout",
          "output_type": "stream",
          "text": [
            "3\n"
          ]
        }
      ],
      "source": [
        "import random\n",
        "x=random.randint(1,\n",
        "                 9)\n",
        "print(x)"
      ]
    },
    {
      "cell_type": "code",
      "execution_count": null,
      "metadata": {
        "colab": {
          "base_uri": "https://localhost:8080/"
        },
        "id": "IBFdDAgYdGJu",
        "outputId": "7071f1a5-e7b8-4a60-cb14-1cdd13fefd3d"
      },
      "outputs": [
        {
          "name": "stdout",
          "output_type": "stream",
          "text": [
            "Enter the ur choice rock\n",
            "rock\n",
            "rock\n",
            "tie\n"
          ]
        }
      ],
      "source": [
        "import random\n",
        "g=[\"rock\",\"paper\",\"sci\"]\n",
        "z=random.choice(g)\n",
        "u=input(\"Enter the ur choice \")\n",
        "print(z)\n",
        "print(u)\n",
        "if(z==\"rock\" and u==\"paper\"):\n",
        "   print(\"z won\")\n",
        "elif (z==\"paper\" and u==\"sci\"):\n",
        "  print(\"u won\")\n",
        "else:\n",
        "   print(\"tie\")"
      ]
    },
    {
      "cell_type": "code",
      "execution_count": null,
      "metadata": {
        "colab": {
          "base_uri": "https://localhost:8080/"
        },
        "id": "UHJTFOEicfy1",
        "outputId": "f46049c7-c0d8-4def-9884-782feb6086b2"
      },
      "outputs": [
        {
          "name": "stdout",
          "output_type": "stream",
          "text": [
            "0.15919013135839322\n"
          ]
        }
      ],
      "source": [
        "import random\n",
        "a=random.random()\n",
        "print(a)"
      ]
    },
    {
      "cell_type": "markdown",
      "metadata": {
        "id": "LgtgetvKeoof"
      },
      "source": [
        "separate the odd and even numbers\n"
      ]
    },
    {
      "cell_type": "code",
      "execution_count": null,
      "metadata": {
        "colab": {
          "base_uri": "https://localhost:8080/"
        },
        "id": "F_heVygMesNx",
        "outputId": "63f115b0-f83e-48fc-a1c1-ff807ffcdca4"
      },
      "outputs": [
        {
          "name": "stdout",
          "output_type": "stream",
          "text": [
            "enter the number of elements u want   5\n",
            "Enter the value of n9 \n",
            "Enter the value of n8\n",
            "Enter the value of n45\n",
            "Enter the value of n66\n",
            "Enter the value of n17\n",
            "[9, 45, 17]\n",
            "Even\n",
            "[8, 66]\n"
          ]
        }
      ],
      "source": [
        "\n",
        "od=[]\n",
        "even=[]\n",
        "a=int(input(\"enter the number of elements u want   \"))\n",
        "for i in range(a):\n",
        "  x=int(input(\"Enter the value of n\"))\n",
        "  if(i%2==0):\n",
        "    od.append(x)\n",
        "  else:\n",
        "    even.append(x)\n",
        "print(od)\n",
        "print(\"Even7\")\n",
        "print(even)"
      ]
    },
    {
      "cell_type": "markdown",
      "metadata": {
        "id": "nHrCRJoeksCm"
      },
      "source": []
    },
    {
      "cell_type": "code",
      "execution_count": null,
      "metadata": {
        "colab": {
          "base_uri": "https://localhost:8080/"
        },
        "id": "0HuSMhyokscp",
        "outputId": "55584c0f-39eb-456b-d6f8-8a377b03363d"
      },
      "outputs": [
        {
          "name": "stdout",
          "output_type": "stream",
          "text": [
            "7\n",
            "[5, 7]\n",
            "[90, 12, 34, 6, 88]\n"
          ]
        }
      ],
      "source": [
        "import numpy as np\n",
        "ist=[]\n",
        "ene=[]\n",
        "n=np.array([90,12,34,5,6,7,88,])\n",
        "m=len(n)\n",
        "print(m)\n",
        "\n",
        "for i in range(m):\n",
        " if(n[i]%2)!=0:\n",
        "   ist.append(n[i])\n",
        " else:\n",
        "  ene.append(n[i])\n",
        "print(ist)\n",
        "print(ene)"
      ]
    },
    {
      "cell_type": "markdown",
      "metadata": {
        "id": "UxJNrFY5mqZo"
      },
      "source": [
        "Average of 10 numbers\n"
      ]
    },
    {
      "cell_type": "code",
      "execution_count": null,
      "metadata": {
        "colab": {
          "base_uri": "https://localhost:8080/"
        },
        "id": "dvAEqypmmtap",
        "outputId": "5325cde8-e9c0-4c89-df19-4fd85f4a4f9a"
      },
      "outputs": [
        {
          "name": "stdout",
          "output_type": "stream",
          "text": [
            "407\n",
            "40.7\n"
          ]
        }
      ],
      "source": [
        "import numpy as np\n",
        "n=np.array([89,9,67,34,8,4,89,4,23,80])\n",
        "m=len(n)\n",
        "\n",
        "s=0\n",
        "for i in range(m):\n",
        "      s=s+n[i]\n",
        "print(s)\n",
        "av=s/10\n",
        "print(av)"
      ]
    },
    {
      "cell_type": "markdown",
      "metadata": {
        "id": "nb5xPQDInqZg"
      },
      "source": [
        "divisible by 11 but not by"
      ]
    },
    {
      "cell_type": "code",
      "execution_count": null,
      "metadata": {
        "colab": {
          "base_uri": "https://localhost:8080/"
        },
        "id": "ZXOXSBKYnznH",
        "outputId": "a50b3847-f0fa-4dac-a1a5-1bc954d41cb8"
      },
      "outputs": [
        {
          "name": "stdout",
          "output_type": "stream",
          "text": [
            "121\n",
            "143\n",
            "165\n",
            "187\n"
          ]
        }
      ],
      "source": [
        "for i in range(100,200):\n",
        "    if(i % 11)==0:\n",
        "       if(i%2!=0):\n",
        "          print(i)\n"
      ]
    },
    {
      "cell_type": "markdown",
      "metadata": {
        "id": "rKXwzUihvaTI"
      },
      "source": []
    },
    {
      "cell_type": "code",
      "execution_count": null,
      "metadata": {
        "colab": {
          "base_uri": "https://localhost:8080/"
        },
        "id": "7TTwgMtSvbaQ",
        "outputId": "a8b6c811-2306-4ce4-e051-cbcdce9bb5cc"
      },
      "outputs": [
        {
          "data": {
            "text/plain": [
              "array([[0., 0., 0., 0.],\n",
              "       [0., 0., 0., 0.],\n",
              "       [0., 0., 0., 0.],\n",
              "       [0., 0., 0., 0.]])"
            ]
          },
          "execution_count": 2,
          "metadata": {},
          "output_type": "execute_result"
        }
      ],
      "source": [
        "import numpy as np\n",
        "n1=np.zeros((4,4))\n",
        "n1"
      ]
    },
    {
      "cell_type": "markdown",
      "metadata": {
        "id": "D3_Zqpe_voqN"
      },
      "source": []
    },
    {
      "cell_type": "code",
      "execution_count": null,
      "metadata": {
        "colab": {
          "base_uri": "https://localhost:8080/"
        },
        "id": "FInmkjyevo55",
        "outputId": "21f7dd17-8cfe-4de4-f3b1-319a6dcb025a"
      },
      "outputs": [
        {
          "data": {
            "text/plain": [
              "array([10, 20, 30, 40])"
            ]
          },
          "execution_count": 5,
          "metadata": {},
          "output_type": "execute_result"
        }
      ],
      "source": [
        " import numpy as np\n",
        " n1=np.array([10,20,30,40])\n",
        " n1\n"
      ]
    },
    {
      "cell_type": "markdown",
      "metadata": {
        "id": "d9cNrJM8wHZB"
      },
      "source": []
    },
    {
      "cell_type": "code",
      "execution_count": null,
      "metadata": {
        "colab": {
          "base_uri": "https://localhost:8080/"
        },
        "id": "EbpXRd1nwITm",
        "outputId": "fad0c23c-5f4b-4bae-e5fc-24b58e5faa4d"
      },
      "outputs": [
        {
          "data": {
            "text/plain": [
              "array([[10,  2, 30, 40,  4],\n",
              "       [34, 56, 77, 12, 20]])"
            ]
          },
          "execution_count": 8,
          "metadata": {},
          "output_type": "execute_result"
        }
      ],
      "source": [
        " import numpy as np\n",
        " n2=np.array([[10,2,30,40,4],[34,56,77,12,20]])\n",
        " n2"
      ]
    }
  ],
  "metadata": {
    "colab": {
      "provenance": []
    },
    "kernelspec": {
      "display_name": "Python 3",
      "name": "python3"
    },
    "language_info": {
      "name": "python"
    }
  },
  "nbformat": 4,
  "nbformat_minor": 0
}