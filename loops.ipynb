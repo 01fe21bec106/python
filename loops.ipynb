{
 "cells": [
  {
   "cell_type": "code",
   "execution_count": 3,
   "id": "4d980a60-02d7-46da-926d-e722f08b2217",
   "metadata": {},
   "outputs": [
    {
     "name": "stdin",
     "output_type": "stream",
     "text": [
      "Enter the 1st num  4\n",
      "Enter the 2nd number  70\n"
     ]
    },
    {
     "name": "stdout",
     "output_type": "stream",
     "text": [
      "[5, 7, 9, 11, 13, 15, 17, 19, 21, 23, 25, 27, 29, 31, 33, 35, 37, 39, 41, 43, 45, 47, 49, 51, 53, 55, 57, 59, 61, 63, 65, 67, 69]\n",
      "[4, 6, 8, 10, 12, 14, 16, 18, 20, 22, 24, 26, 28, 30, 32, 34, 36, 38, 40, 42, 44, 46, 48, 50, 52, 54, 56, 58, 60, 62, 64, 66, 68, 70]\n"
     ]
    }
   ],
   "source": [
    "def fumm():\n",
    "    lis=[]\n",
    "    ll=[]\n",
    "    n=int(input(\"Enter the 1st num \"))\n",
    "    m=int(input(\"Enter the 2nd number \"))\n",
    "    for i in range (n,m+1):\n",
    "        if(i%2!=0):\n",
    "            lis.append(i)\n",
    "        else:\n",
    "            ll.append(i)\n",
    "    print(lis)\n",
    "    print(ll)\n",
    "        \n",
    "fumm()"
   ]
  },
  {
   "cell_type": "code",
   "execution_count": 14,
   "id": "1da62de4-51ed-42c6-936a-7d989e5e45f8",
   "metadata": {},
   "outputs": [
    {
     "name": "stdin",
     "output_type": "stream",
     "text": [
      "Enter 1st number  1\n",
      "Enter 2nd number   50\n"
     ]
    },
    {
     "name": "stdout",
     "output_type": "stream",
     "text": [
      "1\n",
      "2\n",
      "3\n",
      "5\n",
      "7\n",
      "11\n",
      "13\n",
      "17\n",
      "19\n",
      "23\n",
      "29\n",
      "31\n",
      "37\n",
      "41\n",
      "43\n",
      "47\n"
     ]
    }
   ],
   "source": [
    "def ff():\n",
    "    n=int(input(\"Enter 1st number \"))\n",
    "    m=int(input(\"Enter 2nd number  \"))\n",
    "    pr=[]\n",
    "    f=1\n",
    "    for i in range(n,m+1):\n",
    "        a=i//2\n",
    "       \n",
    "        for j in range(2,a+1):\n",
    "            if(i%j!=0):\n",
    "               f=1\n",
    "            else:\n",
    "                f=0\n",
    "                break\n",
    "        if(f==1):\n",
    "            print(i)\n",
    "ff()"
   ]
  },
  {
   "cell_type": "code",
   "execution_count": 42,
   "id": "8caedfbb-d3e7-412b-975b-f75e23023d9b",
   "metadata": {},
   "outputs": [
    {
     "name": "stdin",
     "output_type": "stream",
     "text": [
      "Enter the number  17\n"
     ]
    },
    {
     "name": "stdout",
     "output_type": "stream",
     "text": [
      "not a composit number\n"
     ]
    }
   ],
   "source": [
    "def compositt():\n",
    "    n=int(input(\"Enter the number \"))\n",
    "    f=0\n",
    "    for i in range(1,n+1):\n",
    "        if(n%i!=0):\n",
    "           f=f\n",
    "        else:\n",
    "            f=f+1\n",
    "\n",
    "    if(f>2):\n",
    "        print(\"composit number \")\n",
    "        \n",
    "    else:\n",
    "        print(\"not a composit number\")\n",
    "        \n",
    "compositt()"
   ]
  },
  {
   "cell_type": "code",
   "execution_count": 43,
   "id": "722077ea-eaf1-4754-939e-0b1571162697",
   "metadata": {},
   "outputs": [
    {
     "name": "stdin",
     "output_type": "stream",
     "text": [
      "Enter the 1st number  1\n",
      "Enter the 2nd number  20\n"
     ]
    },
    {
     "name": "stdout",
     "output_type": "stream",
     "text": [
      "4\n",
      "6\n",
      "8\n",
      "9\n",
      "10\n",
      "12\n",
      "14\n",
      "15\n",
      "16\n",
      "18\n",
      "20\n"
     ]
    }
   ],
   "source": [
    "def cp():\n",
    "    n=int(input(\"Enter the 1st number \"))\n",
    "    m=int(input(\"Enter the 2nd number \"))\n",
    "    for i in range(n,m+1):\n",
    "        f=0\n",
    "        for j in range( 1,i+1):\n",
    "            if(i%j==0):\n",
    "                f=f+1\n",
    "            else:\n",
    "                f=f\n",
    "        if(f>2):\n",
    "            print( i)\n",
    "       \n",
    "cp()"
   ]
  },
  {
   "cell_type": "code",
   "execution_count": 58,
   "id": "1358a5dc-6b42-46a4-bf63-1c89137759f5",
   "metadata": {},
   "outputs": [
    {
     "name": "stdin",
     "output_type": "stream",
     "text": [
      "Enter the  number  13\n"
     ]
    },
    {
     "name": "stdout",
     "output_type": "stream",
     "text": [
      "2\n",
      "3\n",
      "5\n",
      "7\n",
      "11\n",
      "13\n"
     ]
    }
   ],
   "source": [
    "\n",
    "m=int(input(\"Enter the  number \"))\n",
    "for i in range(2,m+1):\n",
    "    a=i//2\n",
    "    f=1\n",
    "    for j in range(2,a+1):\n",
    "        if(i%j!=0):\n",
    "            f=1\n",
    "        else:\n",
    "            f=0\n",
    "            break\n",
    "    if(f==1):\n",
    "        print(i)"
   ]
  },
  {
   "cell_type": "code",
   "execution_count": 6,
   "id": "ca930ca8-2ae6-4582-93cd-d42f7e0217bc",
   "metadata": {},
   "outputs": [
    {
     "name": "stdin",
     "output_type": "stream",
     "text": [
      "enter  90\n"
     ]
    }
   ],
   "source": [
    "n=int(input(\"enter \"))\n",
    "s=0\n",
    "for i in range(1,n):\n",
    "    if(n%i==0):\n",
    "        s=s+i\n",
    "    else:\n",
    "        s=s\n",
    "if(n==s):\n",
    "    print(\"i\")\n",
    "else:\n",
    "    print(\"not p num\")\n",
    "        "
   ]
  },
  {
   "cell_type": "code",
   "execution_count": 11,
   "id": "838d1655-1bcc-4267-9ae9-4fda94de70f4",
   "metadata": {},
   "outputs": [
    {
     "name": "stdin",
     "output_type": "stream",
     "text": [
      "enter  78\n"
     ]
    },
    {
     "name": "stdout",
     "output_type": "stream",
     "text": [
      "78\n",
      "78\n",
      "78\n",
      "78\n",
      "78\n",
      "78\n",
      "78\n"
     ]
    }
   ],
   "source": [
    "n=int(input(\"enter \"))\n",
    "i=1\n",
    "\n",
    "for i in range(1,n+1):\n",
    " s=0\n",
    "    \n",
    " while(i<n):\n",
    "    if(n%i==0):\n",
    "        s=s+i\n",
    "    else:\n",
    "        s=s\n",
    "    i+=1\n",
    " if(s==i):\n",
    "    print(i)\n",
    " "
   ]
  },
  {
   "cell_type": "code",
   "execution_count": 3,
   "id": "b16de32b-e47d-4b6d-9c40-ef387370ba14",
   "metadata": {},
   "outputs": [
    {
     "name": "stdin",
     "output_type": "stream",
     "text": [
      "Enter  407\n"
     ]
    },
    {
     "name": "stdout",
     "output_type": "stream",
     "text": [
      "407\n",
      "armstrong number\n"
     ]
    }
   ],
   "source": [
    "n=int(input(\"Enter \"))\n",
    "m=n\n",
    "b=0\n",
    "while(n!=0):\n",
    "    a=n%10\n",
    "    b=(a*a*a)+b\n",
    "    \n",
    "    n=n//10\n",
    "print(b)\n",
    "if(m==b):\n",
    "    print(\"armstrong number\")\n",
    "else:\n",
    "    print(\"not a num\")\n",
    "    "
   ]
  },
  {
   "cell_type": "code",
   "execution_count": 11,
   "id": "8c063b62-2784-4a7e-9136-84857ae6420c",
   "metadata": {},
   "outputs": [
    {
     "name": "stdin",
     "output_type": "stream",
     "text": [
      "Enter 1st number  1\n",
      "Enter 2nd number  900\n"
     ]
    },
    {
     "name": "stdout",
     "output_type": "stream",
     "text": [
      "1\n",
      "153\n",
      "370\n",
      "371\n",
      "407\n"
     ]
    }
   ],
   "source": [
    "n=int(input(\"Enter 1st number \"))\n",
    "m=int(input(\"Enter 2nd number \"))\n",
    "for i in range(n,m+1):\n",
    "    x=i\n",
    "    p=x\n",
    "    b=0\n",
    "    while(x!=0):\n",
    "        a=x%10\n",
    "        b=(a*a*a)+b\n",
    "        x=x//10\n",
    "       \n",
    "    if(p==b):\n",
    "        print(i)\n",
    "        \n",
    "            "
   ]
  },
  {
   "cell_type": "code",
   "execution_count": null,
   "id": "15b92400-72c3-4c8d-9a93-bdc350a7b387",
   "metadata": {},
   "outputs": [],
   "source": []
  }
 ],
 "metadata": {
  "kernelspec": {
   "display_name": "Python 3 (ipykernel)",
   "language": "python",
   "name": "python3"
  },
  "language_info": {
   "codemirror_mode": {
    "name": "ipython",
    "version": 3
   },
   "file_extension": ".py",
   "mimetype": "text/x-python",
   "name": "python",
   "nbconvert_exporter": "python",
   "pygments_lexer": "ipython3",
   "version": "3.11.5"
  }
 },
 "nbformat": 4,
 "nbformat_minor": 5
}
