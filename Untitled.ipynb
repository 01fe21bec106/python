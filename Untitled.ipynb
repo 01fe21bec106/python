{
  "nbformat": 4,
  "nbformat_minor": 0,
  "metadata": {
    "colab": {
      "provenance": []
    },
    "kernelspec": {
      "name": "python3",
      "display_name": "Python 3"
    },
    "language_info": {
      "name": "python"
    }
  },
  "cells": [
    {
      "cell_type": "code",
      "execution_count": 1,
      "metadata": {
        "colab": {
          "base_uri": "https://localhost:8080/"
        },
        "id": "VfSUTlVd2QC2",
        "outputId": "2884637d-ee79-4887-b47e-69b32ca92dc3"
      },
      "outputs": [
        {
          "output_type": "stream",
          "name": "stdout",
          "text": [
            "m 0.0, b 1.44, cost 89.0 iteration 0\n",
            "m 0.0, b 2.6496000000000004, cost 65.15360000000001 iteration 1\n",
            "m 0.0, b 3.6656640000000005, cost 48.327580160000004 iteration 2\n",
            "m 0.0, b 4.519157760000001, cost 36.455140560896 iteration 3\n",
            "m 0.0, b 5.2360925184000005, cost 28.077947179768216 iteration 4\n",
            "m 0.0, b 5.838317715456, cost 22.16699953004445 iteration 5\n",
            "m 0.0, b 6.34418688098304, cost 17.996234868399366 iteration 6\n",
            "m 0.0, b 6.769116980025753, cost 15.053343323142593 iteration 7\n",
            "m 0.0, b 7.1260582632216325, cost 12.976839048809417 iteration 8\n",
            "m 0.0, b 7.425888941106171, cost 11.511657632839926 iteration 9\n"
          ]
        }
      ],
      "source": [
        "import numpy as np\n",
        "\n",
        "def gradient_descent(x,y):\n",
        "    m_curr = b_curr = 0\n",
        "    iterations = 10\n",
        "    n = len(x)\n",
        "    learning_rate = 0.08\n",
        "\n",
        "    for i in range(iterations):\n",
        "        y_predicted = m_curr * x + b_curr\n",
        "        cost = (1/n) * sum([val**2 for val in (y-y_predicted)])\n",
        "        md = -(2//n)*sum(x*(y-y_predicted))\n",
        "        bd = -(2/n)*sum(y-y_predicted)\n",
        "        m_curr = m_curr - learning_rate * md\n",
        "        b_curr = b_curr - learning_rate * bd\n",
        "        print (\"m {}, b {}, cost {} iteration {}\".format(m_curr,b_curr,cost, i))\n",
        "\n",
        "x = np.array([1,2,3,4,5])\n",
        "y = np.array([5,7,9,11,13])\n",
        "\n",
        "gradient_descent(x,y)"
      ]
    },
    {
      "cell_type": "code",
      "source": [
        "import numpy as np\n",
        "import pandas as pd\n",
        "\n",
        "def gradient_descent(x1,y1):\n",
        "    m_curr = b_curr = 0\n",
        "    iterations = 3\n",
        "    n = len(x1)\n",
        "    learning_rate = 0.08\n",
        "\n",
        "    for i in range(iterations):\n",
        "        y1_predicted = m_curr * x1 + b_curr\n",
        "        cost = (1/n) * sum([val**2 for val in (y1-y1_predicted)])\n",
        "        md = -(2/n)*sum(x1*(y1-y1_predicted))\n",
        "        bd = -(2/n)*sum(y1-y1_predicted)\n",
        "        m_curr = m_curr - learning_rate * md\n",
        "        b_curr = b_curr - learning_rate * bd\n",
        "        print (\"m {}, b {}, cost {} iteration {}\".format(m_curr,b_curr,cost, i))\n",
        "d=pd.read_csv('/content/drive/MyDrive/sssssd.csv')\n",
        "print(d)\n",
        "x2=[]\n",
        "y2=[]\n",
        "x2=d['x'].values.tolist()\n",
        "y2=d['y'].values.tolist()\n",
        "x1 = np.array([x2[0],x2[1],x2[2],x2[3],x2[4],x2[5]]).reshape((-1,1))\n",
        "y1 = np.array([y2[0],y2[1],y2[2],y2[3],y2[4],y2[5]])\n",
        "\n",
        "gradient_descent(x1,y1)"
      ],
      "metadata": {
        "colab": {
          "base_uri": "https://localhost:8080/"
        },
        "id": "FVONLMSp3ANV",
        "outputId": "7342be6c-5a42-4271-c5d1-22d788439d95"
      },
      "execution_count": 4,
      "outputs": [
        {
          "output_type": "stream",
          "name": "stdout",
          "text": [
            "    x   y\n",
            "0  12  45\n",
            "1  13  32\n",
            "2  14  65\n",
            "3  67  23\n",
            "4  34  78\n",
            "5  56  43\n",
            "m [235.2        167.25333333 339.73333333 120.21333333 407.68\n",
            " 224.74666667], b [ 7.2   5.12 10.4   3.68 12.48  6.88], cost [2025. 1024. 4225.  529. 6084. 1849.] iteration 0\n",
            "m [ -57834.112       -41126.47964444  -83538.16177778  -29559.65724444\n",
            " -100245.79413333  -55263.70702222], b [-1216.064       -864.75662222 -1756.53688889  -621.54382222\n",
            " -2107.84426667 -1162.01671111], cost [8.50728925e+07 4.30195763e+07 1.77497763e+08 2.22239803e+07\n",
            " 2.55596779e+08 7.76789028e+07] iteration 1\n",
            "m [14276194.39530667 10151960.45888474 20621169.68210963  7296721.57982341\n",
            " 24745403.61853156 13641696.86662637], b [301265.33162667 214233.1247123  435161.03457185 153980.05838696\n",
            " 522193.24148622 287875.76133215], cost [5.18360787e+12 2.62124171e+12 1.08151818e+13 1.35413756e+12\n",
            " 1.55738619e+13 4.73308195e+12] iteration 2\n"
          ]
        }
      ]
    },
    {
      "cell_type": "code",
      "source": [
        "import matplotlib.pyplot as plt\n",
        "import numpy as np\n",
        "x=np.random.normal(5,1,10000)\n",
        "plt.hist(x,100)\n",
        "plt.show()"
      ],
      "metadata": {
        "colab": {
          "base_uri": "https://localhost:8080/",
          "height": 430
        },
        "id": "d557RdJK33dU",
        "outputId": "c60852f4-cf6d-42c4-ba2b-dbb704adc93e"
      },
      "execution_count": 14,
      "outputs": [
        {
          "output_type": "display_data",
          "data": {
            "text/plain": [
              "<Figure size 640x480 with 1 Axes>"
            ],
            "image/png": "[encoded data removed]"
          },
          "metadata": {}
        }
      ]
    },
    {
      "cell_type": "code",
      "source": [
        "# Take input from the user for TP, FN, TN, and FP\n",
        "TP = int(input(\"Enter the number of True Positives (TP): \"))\n",
        "FN = int(input(\"Enter the number of False Negatives (FN): \"))\n",
        "FP = int(input(\"Enter the number of False Positives (FP): \"))\n",
        "TN = int(input(\"Enter the number of True Negatives (TN): \"))\n",
        "\n",
        "# Create a confusion matrix\n",
        "conf_matrix = [[TP, FN], [FP, TN]]\n",
        "\n",
        "# Calculate performance metrics\n",
        "precision = TP / (TP + FP)\n",
        "recall = TP / (TP + FN)\n",
        "f1_score = 2 * (precision * recall) / (precision + recall)\n",
        "accuracy = (TP + TN) / (TP + TN + FP + FN)\n",
        "\n",
        "# Print the confusion matrix and performance metrics\n",
        "print(\"Confusion Matrix:\")\n",
        "for i in conf_matrix:\n",
        "    print(i)\n",
        "\n",
        "print(\"\\nPerformance Metrics:\")\n",
        "print(\"Precision:\", precision)\n",
        "print(\"Recall:\", recall)\n",
        "print(\"F1 Score:\", f1_score)\n",
        "print(\"Accuracy:\", accuracy)"
      ],
      "metadata": {
        "colab": {
          "base_uri": "https://localhost:8080/"
        },
        "id": "A9aMGJEX4bUR",
        "outputId": "a4895b97-be08-44a4-9474-8b8524ff4eb2"
      },
      "execution_count": 12,
      "outputs": [
        {
          "output_type": "stream",
          "name": "stdout",
          "text": [
            "Enter the number of True Positives (TP): 40\n",
            "Enter the number of False Negatives (FN): 30\n",
            "Enter the number of True Negatives (TN): 30\n",
            "Enter the number of False Positives (FP): 20\n",
            "Confusion Matrix:\n",
            "[40, 30]\n",
            "[20, 30]\n",
            "\n",
            "Performance Metrics:\n",
            "Precision: 0.6666666666666666\n",
            "Recall: 0.5714285714285714\n",
            "F1 Score: 0.6153846153846153\n",
            "Accuracy: 0.5833333333333334\n"
          ]
        }
      ]
    },
    {
      "cell_type": "code",
      "source": [
        "import pandas as pd\n",
        "import numpy as np\n",
        "df = pd.read_csv('/content/drive/MyDrive/multi.csv')\n",
        "print(df)\n",
        "\n",
        "columns = {\n",
        "    'Column Name': [],\n",
        "    'Mean': [],\n",
        "    'Variance': []\n",
        "}\n",
        "\n",
        "for i in df.columns:\n",
        "    mean = df[i].mean()\n",
        "    variance = df[i].var()\n",
        "    columns['Column Name'].append(i)\n",
        "    columns['Mean'].append(mean)\n",
        "    columns['Variance'].append(variance)\n",
        "\n",
        "result = pd.DataFrame(columns)\n",
        "print(result)"
      ],
      "metadata": {
        "colab": {
          "base_uri": "https://localhost:8080/"
        },
        "id": "CBE0oTb35old",
        "outputId": "5361d973-71a2-4454-db0d-7a72a81de4b6"
      },
      "execution_count": 30,
      "outputs": [
        {
          "output_type": "stream",
          "name": "stdout",
          "text": [
            "   children  balance  age   cahrges \n",
            "0         0        0    22    132324\n",
            "1         1        0    25    233334\n",
            "2         3        1    47    567676\n",
            "3         1        0    52     33455\n",
            "4         1        1    46    345787\n",
            "5         0        1    56    334567\n",
            "6         1        0    55     26789\n",
            "7         2        1    60    357878\n",
            "8         2        1    62    234678\n",
            "  Column Name           Mean      Variance\n",
            "0    children       1.222222  9.444444e-01\n",
            "1     balance       0.555556  2.777778e-01\n",
            "2        age       47.222222  2.091944e+02\n",
            "3    cahrges   251832.000000  2.999091e+10\n"
          ]
        }
      ]
    }
  ]
}