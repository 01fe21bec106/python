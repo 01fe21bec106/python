{
 "cells": [
  {
   "cell_type": "code",
   "execution_count": 1,
   "id": "72e10a8e-bce9-4c5a-892e-f305430bc4d9",
   "metadata": {},
   "outputs": [
    {
     "name": "stdout",
     "output_type": "stream",
     "text": [
      "hello , world\n",
      "*\n",
      "*\n",
      "*\n",
      "*\n",
      "*\n",
      "*\n",
      "*\n",
      "*\n",
      "*\n"
     ]
    }
   ],
   "source": [
    "print(\"hello , world\")\n",
    "for i in range(9):\n",
    "    print(\"*\")\n"
   ]
  },
  {
   "cell_type": "code",
   "execution_count": 2,
   "id": "00f215fa-cf3b-4780-9ae4-73a59e65ab09",
   "metadata": {},
   "outputs": [
    {
     "name": "stdin",
     "output_type": "stream",
     "text": [
      "Enter the n value  5\n",
      "Enter   2\n",
      "Enter   5\n",
      "Enter   87\n",
      "Enter   12\n",
      "Enter   56\n"
     ]
    },
    {
     "name": "stdout",
     "output_type": "stream",
     "text": [
      "[2, 12, 56]\n",
      "[5, 87]\n"
     ]
    }
   ],
   "source": [
    "arr=[]\n",
    "arr1=[]\n",
    "n=int(input(\"Enter the n value \"))\n",
    "for i in range(n):\n",
    "    x=int(input(\"Enter  \"))\n",
    "    if(x%2==0):\n",
    "       arr.append(x)\n",
    "    else:\n",
    "      arr1.append(x)\n",
    "print(arr)\n",
    "print(arr1)\n",
    "     "
   ]
  },
  {
   "cell_type": "code",
   "execution_count": 7,
   "id": "161e076c-01bc-4c16-a87a-d57894d4b9c2",
   "metadata": {},
   "outputs": [
    {
     "name": "stdin",
     "output_type": "stream",
     "text": [
      "Enter the n value   7\n"
     ]
    },
    {
     "name": "stdout",
     "output_type": "stream",
     "text": [
      "\n",
      "*\n",
      "**\n",
      "***\n",
      "****\n",
      "*****\n",
      "******\n",
      "*******\n"
     ]
    }
   ],
   "source": [
    "n=int(input(\"Enter the n value  \"))\n",
    "for i in range(n+1):\n",
    "    n='*'\n",
    "    print(n*i)\n",
    "    "
   ]
  },
  {
   "cell_type": "code",
   "execution_count": 16,
   "id": "3baee963-def9-487d-9425-862069d12043",
   "metadata": {},
   "outputs": [
    {
     "name": "stdin",
     "output_type": "stream",
     "text": [
      "Enter the  string  malayalam\n"
     ]
    },
    {
     "name": "stdout",
     "output_type": "stream",
     "text": [
      "9\n",
      "s\n"
     ]
    }
   ],
   "source": [
    "lis=[]\n",
    "n=input(\"Enter the  string \")\n",
    "m=len(n)\n",
    "print(m)\n",
    "lis=n\n",
    "f=0\n",
    "for i in range(0,m):\n",
    "    if(lis[i]!=lis[-i-1]):\n",
    "        f=1\n",
    "        break\n",
    "    else:\n",
    "       f=0\n",
    "       \n",
    "if(f==0):\n",
    "    print(\"s\")\n",
    "else:\n",
    "    print(\"no\")\n",
    "\n"
   ]
  },
  {
   "cell_type": "code",
   "execution_count": null,
   "id": "b9811cd2-583d-4d38-94d5-29af4483a033",
   "metadata": {},
   "outputs": [],
   "source": []
  },
  {
   "cell_type": "code",
   "execution_count": 47,
   "id": "8e4e9bd6-ebb6-4355-8baf-95a90439fbae",
   "metadata": {},
   "outputs": [
    {
     "name": "stdin",
     "output_type": "stream",
     "text": [
      "Enter the number  9\n"
     ]
    },
    {
     "name": "stdout",
     "output_type": "stream",
     "text": [
      "not\n",
      "div by 3\n",
      "div by 9\n"
     ]
    }
   ],
   "source": [
    "#  prime or not\n",
    "n=int(input(\"Enter the number \"))\n",
    "f=0\n",
    "m=n//2\n",
    "for i in range(2,m):\n",
    "        if(n%i == 0):\n",
    "            f=1\n",
    "            break\n",
    "        else:\n",
    "            f=0\n",
    "if(f==0):\n",
    "    print(\"prime\")\n",
    "else: \n",
    "    print(\"not\")\n",
    "    if(n%3==0):\n",
    "     print(\"div by 3\")\n",
    "    if(n%5==0):\n",
    "        print(\"div by 5\")\n",
    "    if(n%7==0):\n",
    "        print(\"div by 7\")\n",
    "    if(n%9==0):\n",
    "        print(\"div by 9\")\n",
    "    \n",
    "        \n",
    "    "
   ]
  },
  {
   "cell_type": "markdown",
   "id": "e4e9f58e-75e4-43ed-8ee1-e47fcbbafb6f",
   "metadata": {},
   "source": [
    "separate odd and even\n"
   ]
  },
  {
   "cell_type": "code",
   "execution_count": 7,
   "id": "0b4ec010-b18c-4dee-b1c9-97ed16842379",
   "metadata": {},
   "outputs": [
    {
     "name": "stdin",
     "output_type": "stream",
     "text": [
      "Enter the n value  7\n",
      "Enter  12\n",
      "Enter  34\n",
      "Enter  6\n",
      "Enter  7\n",
      "Enter  87\n",
      "Enter  34\n",
      "Enter  56\n"
     ]
    },
    {
     "name": "stdout",
     "output_type": "stream",
     "text": [
      "[12, 34, 6, 34, 56]\n",
      "[7, 87]\n"
     ]
    }
   ],
   "source": [
    "\n",
    "n=int(input(\"Enter the n value \"))\n",
    "odd=[]\n",
    "even=[]\n",
    "for i in range(n):\n",
    "    x=int(input(\"Enter \"))\n",
    "    if(x%2==0): \n",
    "        odd.append(x)\n",
    "    else:\n",
    "        even.append(x)\n",
    "print(odd)\n",
    "print(even)"
   ]
  },
  {
   "cell_type": "code",
   "execution_count": 9,
   "id": "fa71218c-4472-4bc5-8987-4cbc61df40fa",
   "metadata": {},
   "outputs": [
    {
     "name": "stdin",
     "output_type": "stream",
     "text": [
      "enter n value  8\n"
     ]
    },
    {
     "name": "stdout",
     "output_type": "stream",
     "text": [
      "\n",
      "*\n",
      "**\n",
      "***\n",
      "****\n",
      "*****\n",
      "******\n",
      "*******\n",
      "********\n"
     ]
    }
   ],
   "source": [
    "n=int(input(\"enter n value \"))\n",
    "for i in range(n+1):\n",
    "    m='*'\n",
    "    print(m*i)"
   ]
  },
  {
   "cell_type": "code",
   "execution_count": 3,
   "id": "71c7d2bb-6a7b-462a-ba4d-e0602581383e",
   "metadata": {},
   "outputs": [
    {
     "name": "stdin",
     "output_type": "stream",
     "text": [
      "Enter the string   jgdjefh\n"
     ]
    },
    {
     "name": "stdout",
     "output_type": "stream",
     "text": [
      "not p\n"
     ]
    }
   ],
   "source": [
    "str=input(\"Enter the string  \")\n",
    "n=len(str)\n",
    "f=1\n",
    "for i in range(n):\n",
    "    if(str[i]==str[-i-1]):\n",
    "        f=1\n",
    "    else:\n",
    "        f=0\n",
    "        break\n",
    "if(f==1):\n",
    "    print(\"s p\")\n",
    "else:\n",
    "    print(\"not p\")"
   ]
  },
  {
   "cell_type": "code",
   "execution_count": 63,
   "id": "82312f20-31df-4d1b-82e6-d7287666c4f5",
   "metadata": {},
   "outputs": [
    {
     "name": "stdin",
     "output_type": "stream",
     "text": [
      "Enter the number  9\n"
     ]
    },
    {
     "name": "stdout",
     "output_type": "stream",
     "text": [
      "not prime\n",
      "div by 3\n",
      "div by 9\n"
     ]
    }
   ],
   "source": [
    "n=int(input(\"Enter the number \"))\n",
    "f=1\n",
    "m=n//2\n",
    "for i in range(2,m+1):\n",
    "    if(n%i!=0):\n",
    "        f=1\n",
    "       \n",
    "    else:\n",
    "       f=0\n",
    "       break\n",
    "if(f==1):\n",
    "    print(\"prime\")\n",
    "else:\n",
    "    print(\"not prime\")\n",
    "    if(n%3==0):\n",
    "        print(\"div by 3\")\n",
    "    if(n%5==0):\n",
    "        print(\"div by 5\")\n",
    "    if(n%7==0):\n",
    "        print(\"div by 7\")\n",
    "    if(n%9==0):\n",
    "        print(\"div by 9\")\n",
    "   "
   ]
  },
  {
   "cell_type": "code",
   "execution_count": 64,
   "id": "8bc5b176-5913-42c9-b1fe-a36f2be2cd6f",
   "metadata": {},
   "outputs": [
    {
     "name": "stdout",
     "output_type": "stream",
     "text": [
      "{1: 'one', 2: 'two', 3: 'three', 4: 'four', 5: 'five'}\n"
     ]
    }
   ],
   "source": [
    "n=[1,2,3,4,5]\n",
    "m=[\"one\",\"two\",\"three\",\"four\",\"five\"]\n",
    "d=dict(zip(n,m))\n",
    "print(d)"
   ]
  },
  {
   "cell_type": "code",
   "execution_count": 65,
   "id": "e9e4defe-5ba5-44c0-bc9e-23a0968c7738",
   "metadata": {},
   "outputs": [
    {
     "name": "stdout",
     "output_type": "stream",
     "text": [
      "(1, 2, 3, 4, 5, 6, 7, 8)\n"
     ]
    }
   ],
   "source": [
    "n=[1,2,3,4,5,6,7,8]\n",
    "m=tuple(n)\n",
    "print(m)"
   ]
  },
  {
   "cell_type": "code",
   "execution_count": 66,
   "id": "12e03349-57d8-4f99-ae90-3ea1b25536de",
   "metadata": {},
   "outputs": [
    {
     "name": "stdout",
     "output_type": "stream",
     "text": [
      "{1: 'one', 2: 'two', 3: 'three', 4: 'four'}\n"
     ]
    }
   ],
   "source": [
    "m=(1,2,3,4,)\n",
    "n=(\"one\",\"two\",\"three\",\"four\")\n",
    "d=dict(zip(m,n))\n",
    "print(d)"
   ]
  },
  {
   "cell_type": "code",
   "execution_count": 67,
   "id": "10871424-3f6d-4b40-80bf-dc857b7d1f21",
   "metadata": {},
   "outputs": [
    {
     "name": "stdout",
     "output_type": "stream",
     "text": [
      "[1, 2, 3, 4, 5, 6, 7, 8, 9]\n"
     ]
    }
   ],
   "source": [
    "m=(1,2,3,4,5,6,7,8,9)\n",
    "n=list(m)\n",
    "print(n)"
   ]
  },
  {
   "cell_type": "code",
   "execution_count": 68,
   "id": "4a4b4afd-b718-4f09-982d-8b2ba5a68701",
   "metadata": {},
   "outputs": [
    {
     "name": "stdout",
     "output_type": "stream",
     "text": [
      "(1, 'one')\n",
      "(2, 'two')\n",
      "(3, 'three')\n",
      "(4, 'four')\n"
     ]
    }
   ],
   "source": [
    "d={1: 'one', 2: 'two', 3: 'three', 4: 'four'}\n",
    "for i in d.items():\n",
    "    print(i)"
   ]
  },
  {
   "cell_type": "code",
   "execution_count": 70,
   "id": "aafc4ec3-21e2-4d68-9a19-d35c51f7cd8d",
   "metadata": {},
   "outputs": [
    {
     "name": "stdout",
     "output_type": "stream",
     "text": [
      "[(1, 'one'), (2, 'two'), (3, 'three'), (4, 'four')]\n"
     ]
    }
   ],
   "source": [
    "m={1: 'one', 2: 'two', 3: 'three', 4: 'four'}\n",
    "a=m.items()\n",
    "n=list(a)\n",
    "print(n)"
   ]
  },
  {
   "cell_type": "code",
   "execution_count": 74,
   "id": "ef10793f-4a79-4774-b88c-a04a85efb8df",
   "metadata": {},
   "outputs": [
    {
     "name": "stdin",
     "output_type": "stream",
     "text": [
      "Enter the string  suchii\n",
      "Enter the string  vijiis\n"
     ]
    },
    {
     "name": "stdout",
     "output_type": "stream",
     "text": [
      "{'h', 'c', 'u', 's', 'i'}\n",
      "{'j', 's', 'v', 'i'}\n",
      "{'s', 'i'}\n"
     ]
    }
   ],
   "source": [
    "a=input(\"Enter the string \")\n",
    "b=input(\"Enter the string \")\n",
    "s1=[]\n",
    "s2=[]\n",
    "s1=set(a)\n",
    "s2=set(b)\n",
    "print(s1)\n",
    "print(s2)\n",
    "lis= s1 & s2\n",
    "print(lis)"
   ]
  },
  {
   "cell_type": "code",
   "execution_count": 85,
   "id": "ef258591-b10d-4061-aba5-d9e63573919d",
   "metadata": {},
   "outputs": [
    {
     "name": "stdin",
     "output_type": "stream",
     "text": [
      "Enter the string  hfhg tera kuuiy athf.iyf\n"
     ]
    },
    {
     "name": "stdout",
     "output_type": "stream",
     "text": [
      "['hfhg', 'tera', 'kuuiy', 'athf.iyf']\n",
      "{0: 1, 1: 1, 2: 1, 3: 1}\n"
     ]
    }
   ],
   "source": [
    "str=input(\"Enter the string \")\n",
    "a=str.split()\n",
    "print(a)\n",
    "m=len(a)\n",
    "d={}\n",
    "for i in range(m):\n",
    "    if(i not in d.keys()):\n",
    "        d[i]=0\n",
    "    d[i]=d[i]+1\n",
    "print(d)"
   ]
  },
  {
   "cell_type": "code",
   "execution_count": 2,
   "id": "cfdfd14b-8b88-493a-8e88-e2fdba993b1d",
   "metadata": {},
   "outputs": [
    {
     "name": "stdin",
     "output_type": "stream",
     "text": [
      "Enter the statement    shela is y natiev and shela my friend and shela my sister also nd my kali\n"
     ]
    },
    {
     "name": "stdout",
     "output_type": "stream",
     "text": [
      "['shela', 'is', 'y', 'natiev', 'and', 'shela', 'my', 'friend', 'and', 'shela', 'my', 'sister', 'also', 'nd', 'my', 'kali']\n",
      "{'shela': 3, 'is': 1, 'y': 1, 'natiev': 1, 'and': 2, 'my': 3, 'friend': 1, 'sister': 1, 'also': 1, 'nd': 1, 'kali': 1}\n"
     ]
    }
   ],
   "source": [
    "\n",
    "n=input(\"Enter the statement   \")\n",
    "li=n.split()\n",
    "print(li)\n",
    "d={}\n",
    "for i in li:\n",
    "  if(i not in d.keys()):\n",
    "     d[i]=0\n",
    "  d[i]=d[i]+1\n",
    "print(d)\n",
    "\n"
   ]
  },
  {
   "cell_type": "code",
   "execution_count": 12,
   "id": "980f0b09-f645-4163-8a37-b45edc6b46e3",
   "metadata": {},
   "outputs": [
    {
     "name": "stdout",
     "output_type": "stream",
     "text": [
      "9\n",
      "45\n",
      "40\n",
      "5\n"
     ]
    }
   ],
   "source": [
    "\n",
    "n=[1,2,3,4,6,7,8,9]\n",
    "l=n[-1]\n",
    "print(l)\n",
    "t=(l*(l+1))//2\n",
    "print(t)\n",
    "a=n[-1]\n",
    "s=sum(n)\n",
    "print(s)\n",
    "d=t-s\n",
    "print(d)"
   ]
  },
  {
   "cell_type": "code",
   "execution_count": 9,
   "id": "3714000d-1a45-462f-aa2a-98805801f735",
   "metadata": {},
   "outputs": [
    {
     "name": "stdin",
     "output_type": "stream",
     "text": [
      " enter   3\n",
      " enter   4\n",
      " enter   6\n"
     ]
    },
    {
     "name": "stdout",
     "output_type": "stream",
     "text": [
      "1\n",
      "2\n",
      "3\n",
      "4\n",
      "5\n"
     ]
    },
    {
     "name": "stdin",
     "output_type": "stream",
     "text": [
      " enter   7\n",
      " enter   8\n",
      " enter   9\n",
      " enter   6\n"
     ]
    },
    {
     "name": "stdout",
     "output_type": "stream",
     "text": [
      "1\n",
      "2\n",
      "3\n",
      "4\n",
      "5\n"
     ]
    },
    {
     "name": "stdin",
     "output_type": "stream",
     "text": [
      " enter   6\n"
     ]
    },
    {
     "name": "stdout",
     "output_type": "stream",
     "text": [
      "1\n",
      "2\n",
      "3\n",
      "4\n",
      "5\n"
     ]
    },
    {
     "name": "stdin",
     "output_type": "stream",
     "text": [
      " enter   8\n",
      " enter   8\n"
     ]
    }
   ],
   "source": [
    "def number():\n",
    "  m=0\n",
    "  while(m<10):\n",
    "    n=int(input(\" enter  \"))\n",
    "    m=m+1\n",
    "    if(n==6):\n",
    "        for i in range(1,n):\n",
    "            if(i!=6):\n",
    "                print(i)\n",
    "            else:\n",
    "                break\n",
    "number()"
   ]
  },
  {
   "cell_type": "code",
   "execution_count": 6,
   "id": "e433b5e3-cc31-4b7d-9150-91c958412b92",
   "metadata": {},
   "outputs": [
    {
     "name": "stdin",
     "output_type": "stream",
     "text": [
      "Enter   4\n",
      "Enter   5\n",
      "Enter   6\n"
     ]
    },
    {
     "name": "stdout",
     "output_type": "stream",
     "text": [
      "1\n",
      "2\n",
      "3\n",
      "4\n",
      "5\n",
      "7\n",
      "8\n",
      "9\n",
      "10\n"
     ]
    },
    {
     "name": "stdin",
     "output_type": "stream",
     "text": [
      "Enter   7\n",
      "Enter   8\n",
      "Enter   6\n"
     ]
    },
    {
     "name": "stdout",
     "output_type": "stream",
     "text": [
      "1\n",
      "2\n",
      "3\n",
      "4\n",
      "5\n",
      "7\n",
      "8\n",
      "9\n",
      "10\n"
     ]
    },
    {
     "name": "stdin",
     "output_type": "stream",
     "text": [
      "Enter   9\n",
      "Enter   6\n"
     ]
    },
    {
     "name": "stdout",
     "output_type": "stream",
     "text": [
      "1\n",
      "2\n",
      "3\n",
      "4\n",
      "5\n",
      "7\n",
      "8\n",
      "9\n",
      "10\n"
     ]
    },
    {
     "name": "stdin",
     "output_type": "stream",
     "text": [
      "Enter   7\n",
      "Enter   6\n"
     ]
    },
    {
     "name": "stdout",
     "output_type": "stream",
     "text": [
      "1\n",
      "2\n",
      "3\n",
      "4\n",
      "5\n",
      "7\n",
      "8\n",
      "9\n",
      "10\n"
     ]
    }
   ],
   "source": [
    "def function():\n",
    "  m=0\n",
    "  while(m<10):\n",
    "      n=int(input(\"Enter  \"))\n",
    "      m=m+1\n",
    "      if(n==6):\n",
    "       for i in range(1,11):\n",
    "          if(i!=6):\n",
    "              print(i)\n",
    "\n",
    "function()"
   ]
  },
  {
   "cell_type": "code",
   "execution_count": 13,
   "id": "cb988480-442c-428c-8d30-f3523ad221c6",
   "metadata": {},
   "outputs": [
    {
     "name": "stdin",
     "output_type": "stream",
     "text": [
      "enter  2\n"
     ]
    },
    {
     "name": "stdout",
     "output_type": "stream",
     "text": [
      "2 * 1 = 2\n",
      "2 * 2 = 4\n",
      "2 * 3 = 6\n",
      "2 * 4 = 8\n",
      "2 * 5 = 10\n",
      "2 * 6 = 12\n",
      "2 * 7 = 14\n",
      "2 * 8 = 16\n",
      "2 * 9 = 18\n",
      "2 * 10 = 20\n"
     ]
    },
    {
     "name": "stdin",
     "output_type": "stream",
     "text": [
      "enter  3\n"
     ]
    },
    {
     "name": "stdout",
     "output_type": "stream",
     "text": [
      "3 * 1 = 3\n",
      "3 * 2 = 6\n",
      "3 * 3 = 9\n",
      "3 * 4 = 12\n",
      "3 * 5 = 15\n",
      "3 * 6 = 18\n",
      "3 * 7 = 21\n",
      "3 * 8 = 24\n",
      "3 * 9 = 27\n",
      "3 * 10 = 30\n"
     ]
    },
    {
     "name": "stdin",
     "output_type": "stream",
     "text": [
      "enter  4\n"
     ]
    },
    {
     "name": "stdout",
     "output_type": "stream",
     "text": [
      "4 * 1 = 4\n",
      "4 * 2 = 8\n",
      "4 * 3 = 12\n",
      "4 * 4 = 16\n",
      "4 * 5 = 20\n",
      "4 * 6 = 24\n",
      "4 * 7 = 28\n",
      "4 * 8 = 32\n",
      "4 * 9 = 36\n",
      "4 * 10 = 40\n"
     ]
    },
    {
     "name": "stdin",
     "output_type": "stream",
     "text": [
      "enter  5\n"
     ]
    },
    {
     "name": "stdout",
     "output_type": "stream",
     "text": [
      "5 * 1 = 5\n",
      "5 * 2 = 10\n",
      "5 * 3 = 15\n",
      "5 * 4 = 20\n",
      "5 * 5 = 25\n",
      "5 * 6 = 30\n",
      "5 * 7 = 35\n",
      "5 * 8 = 40\n",
      "5 * 9 = 45\n",
      "5 * 10 = 50\n"
     ]
    },
    {
     "name": "stdin",
     "output_type": "stream",
     "text": [
      "enter  6\n"
     ]
    },
    {
     "name": "stdout",
     "output_type": "stream",
     "text": [
      "6 * 1 = 6\n",
      "6 * 2 = 12\n",
      "6 * 3 = 18\n",
      "6 * 4 = 24\n",
      "6 * 5 = 30\n",
      "6 * 6 = 36\n",
      "6 * 7 = 42\n",
      "6 * 8 = 48\n",
      "6 * 9 = 54\n",
      "6 * 10 = 60\n"
     ]
    },
    {
     "name": "stdin",
     "output_type": "stream",
     "text": [
      "enter  7\n"
     ]
    },
    {
     "name": "stdout",
     "output_type": "stream",
     "text": [
      "7 * 1 = 7\n",
      "7 * 2 = 14\n",
      "7 * 3 = 21\n",
      "7 * 4 = 28\n",
      "7 * 5 = 35\n",
      "7 * 6 = 42\n",
      "7 * 7 = 49\n",
      "7 * 8 = 56\n",
      "7 * 9 = 63\n",
      "7 * 10 = 70\n"
     ]
    },
    {
     "name": "stdin",
     "output_type": "stream",
     "text": [
      "enter  8\n"
     ]
    },
    {
     "name": "stdout",
     "output_type": "stream",
     "text": [
      "8 * 1 = 8\n",
      "8 * 2 = 16\n",
      "8 * 3 = 24\n",
      "8 * 4 = 32\n",
      "8 * 5 = 40\n",
      "8 * 6 = 48\n",
      "8 * 7 = 56\n",
      "8 * 8 = 64\n",
      "8 * 9 = 72\n",
      "8 * 10 = 80\n"
     ]
    },
    {
     "name": "stdin",
     "output_type": "stream",
     "text": [
      "enter  9\n"
     ]
    },
    {
     "name": "stdout",
     "output_type": "stream",
     "text": [
      "9 * 1 = 9\n",
      "9 * 2 = 18\n",
      "9 * 3 = 27\n",
      "9 * 4 = 36\n",
      "9 * 5 = 45\n",
      "9 * 6 = 54\n",
      "9 * 7 = 63\n",
      "9 * 8 = 72\n",
      "9 * 9 = 81\n",
      "9 * 10 = 90\n"
     ]
    },
    {
     "name": "stdin",
     "output_type": "stream",
     "text": [
      "enter  10\n"
     ]
    },
    {
     "name": "stdout",
     "output_type": "stream",
     "text": [
      "10 * 1 = 10\n",
      "10 * 2 = 20\n",
      "10 * 3 = 30\n",
      "10 * 4 = 40\n",
      "10 * 5 = 50\n",
      "10 * 6 = 60\n",
      "10 * 7 = 70\n",
      "10 * 8 = 80\n",
      "10 * 9 = 90\n",
      "10 * 10 = 100\n"
     ]
    },
    {
     "name": "stdin",
     "output_type": "stream",
     "text": [
      "enter  11\n"
     ]
    },
    {
     "name": "stdout",
     "output_type": "stream",
     "text": [
      "11 * 1 = 11\n",
      "11 * 2 = 22\n",
      "11 * 3 = 33\n",
      "11 * 4 = 44\n",
      "11 * 5 = 55\n",
      "11 * 6 = 66\n",
      "11 * 7 = 77\n",
      "11 * 8 = 88\n",
      "11 * 9 = 99\n",
      "11 * 10 = 110\n"
     ]
    }
   ],
   "source": [
    "def tables():\n",
    "  m=0\n",
    "  while(m<10):\n",
    "      n=int(input(\"enter \"))\n",
    "      m=m+1\n",
    "      for i in range(1,11):\n",
    "          c=n*i\n",
    "          print(n,\"*\",i,\"=\",c)\n",
    "\n",
    "tables()"
   ]
  },
  {
   "cell_type": "code",
   "execution_count": 20,
   "id": "219450b2-4714-4547-8981-32fb91827473",
   "metadata": {},
   "outputs": [
    {
     "name": "stdin",
     "output_type": "stream",
     "text": [
      "Enter the string   shuuu shu chiiii tra    aaa\n"
     ]
    },
    {
     "name": "stdout",
     "output_type": "stream",
     "text": [
      "['shuuu', 'shu', 'chiiii', 'tra', 'aaa']\n"
     ]
    },
    {
     "name": "stdin",
     "output_type": "stream",
     "text": [
      "Enter last name  uuuuuu\n"
     ]
    },
    {
     "ename": "ValueError",
     "evalue": "dictionary update sequence element #0 has length 1; 2 is required",
     "output_type": "error",
     "traceback": [
      "\u001b[1;31m---------------------------------------------------------------------------\u001b[0m",
      "\u001b[1;31mValueError\u001b[0m                                Traceback (most recent call last)",
      "Cell \u001b[1;32mIn[20], line 8\u001b[0m\n\u001b[0;32m      6\u001b[0m \u001b[38;5;28mprint\u001b[39m(ll)\n\u001b[0;32m      7\u001b[0m m\u001b[38;5;241m=\u001b[39m\u001b[38;5;28minput\u001b[39m(\u001b[38;5;124m\"\u001b[39m\u001b[38;5;124mEnter last name \u001b[39m\u001b[38;5;124m\"\u001b[39m)\n\u001b[1;32m----> 8\u001b[0m d\u001b[38;5;241m=\u001b[39m\u001b[38;5;28;43mdict\u001b[39;49m\u001b[43m(\u001b[49m\u001b[38;5;28;43mzip\u001b[39;49m\u001b[43m(\u001b[49m\u001b[43m(\u001b[49m\u001b[43mll\u001b[49m\u001b[43m)\u001b[49m\u001b[43m)\u001b[49m\u001b[43m)\u001b[49m\n",
      "\u001b[1;31mValueError\u001b[0m: dictionary update sequence element #0 has length 1; 2 is required"
     ]
    }
   ],
   "source": [
    "lm=[]\n",
    "n=input(\"Enter the string  \")\n",
    "l=len(n)\n",
    "lm=n\n",
    "ll=n.split()\n",
    "print(ll)\n",
    "m=input(\"Enter last name \")\n"
   ]
  },
  {
   "cell_type": "code",
   "execution_count": 45,
   "id": "6e36ef87-f22a-4cc4-89a1-54a31eee4618",
   "metadata": {},
   "outputs": [
    {
     "name": "stdin",
     "output_type": "stream",
     "text": [
      "Enter string:   jnjkh rdew etry u\n",
      "enter last :  mmmm\n"
     ]
    },
    {
     "name": "stdout",
     "output_type": "stream",
     "text": [
      "['jnjkh', 'rdew', 'etry', 'u']\n",
      "mmmm\n",
      "4\n"
     ]
    },
    {
     "ename": "TypeError",
     "evalue": "can only concatenate list (not \"str\") to list",
     "output_type": "error",
     "traceback": [
      "\u001b[1;31m---------------------------------------------------------------------------\u001b[0m",
      "\u001b[1;31mTypeError\u001b[0m                                 Traceback (most recent call last)",
      "Cell \u001b[1;32mIn[45], line 17\u001b[0m\n\u001b[0;32m     15\u001b[0m     mp\u001b[38;5;241m=\u001b[39mll\u001b[38;5;241m+\u001b[39mmm\n\u001b[0;32m     16\u001b[0m     \u001b[38;5;28mprint\u001b[39m(mp)\n\u001b[1;32m---> 17\u001b[0m \u001b[43mcont\u001b[49m\u001b[43m(\u001b[49m\u001b[43m)\u001b[49m\n",
      "Cell \u001b[1;32mIn[45], line 15\u001b[0m, in \u001b[0;36mcont\u001b[1;34m()\u001b[0m\n\u001b[0;32m     11\u001b[0m mp\u001b[38;5;241m=\u001b[39m[]\n\u001b[0;32m     12\u001b[0m \u001b[38;5;66;03m#for i in range(0,l):\u001b[39;00m\n\u001b[0;32m     13\u001b[0m \u001b[38;5;66;03m# mp=ll[i]+mm[i]\u001b[39;00m\n\u001b[0;32m     14\u001b[0m \u001b[38;5;66;03m#mp.append(pp)  \u001b[39;00m\n\u001b[1;32m---> 15\u001b[0m mp\u001b[38;5;241m=\u001b[39m\u001b[43mll\u001b[49m\u001b[38;5;241;43m+\u001b[39;49m\u001b[43mmm\u001b[49m\n\u001b[0;32m     16\u001b[0m \u001b[38;5;28mprint\u001b[39m(mp)\n",
      "\u001b[1;31mTypeError\u001b[0m: can only concatenate list (not \"str\") to list"
     ]
    }
   ],
   "source": [
    "def cont():\n",
    "    n=input(\"Enter string:  \")\n",
    "    m=input(\"enter last : \")\n",
    "    ll=n.split()\n",
    "    l=len(ll)\n",
    "    print(ll)\n",
    "    mm=[]\n",
    "    mm=m\n",
    "    print(mm)\n",
    "    print(l)\n",
    "    mp=[]\n",
    "    #for i in range(0,l):\n",
    "    # mp=ll[i]+mm[i]\n",
    "    #mp.append(pp)  \n",
    "    mp=ll+mm\n",
    "    print(mp)\n",
    "cont()"
   ]
  },
  {
   "cell_type": "code",
   "execution_count": 47,
   "id": "a615cf2f-6baa-49c9-9c9b-719fec8bf354",
   "metadata": {},
   "outputs": [
    {
     "name": "stdout",
     "output_type": "stream",
     "text": [
      "0\n",
      "1\n",
      "2\n",
      "3\n",
      "4\n",
      "5\n",
      "6\n",
      "7\n",
      "8\n",
      "9\n",
      "10\n"
     ]
    }
   ],
   "source": [
    "def nat():\n",
    "    for i in range(0,11):\n",
    "        print(i)\n",
    "nat()"
   ]
  },
  {
   "cell_type": "code",
   "execution_count": 49,
   "id": "711c343d-1fcd-4ed9-bcfd-83c9076b9ead",
   "metadata": {},
   "outputs": [
    {
     "name": "stdout",
     "output_type": "stream",
     "text": [
      "0\n",
      "1\n",
      "1\n",
      "2\n",
      "3\n",
      "5\n",
      "8\n",
      "13\n",
      "21\n",
      "34\n",
      "55\n",
      "89\n"
     ]
    }
   ],
   "source": [
    "def fibo():\n",
    "    a=0\n",
    "    b=1\n",
    "    print(a)\n",
    "    print(b)\n",
    "    for i in range(1,11):\n",
    "        c=a+b\n",
    "        print(c)\n",
    "        a=b\n",
    "        b=c\n",
    "fibo()\n",
    "        "
   ]
  },
  {
   "cell_type": "code",
   "execution_count": 51,
   "id": "d84a1948-92f6-4394-a072-4c404d9f880d",
   "metadata": {},
   "outputs": [
    {
     "name": "stdout",
     "output_type": "stream",
     "text": [
      "1\n",
      "6\n",
      "120\n",
      "5040\n",
      "362880\n",
      "39916800\n",
      "6227020800\n",
      "1307674368000\n",
      "355687428096000\n",
      "121645100408832000\n"
     ]
    }
   ],
   "source": [
    "def fact():\n",
    "    f=1\n",
    "    for i in range(1,21):\n",
    "        f=f*i\n",
    "        if(i%2!=0):\n",
    "            print(f)\n",
    "fact()"
   ]
  },
  {
   "cell_type": "code",
   "execution_count": 52,
   "id": "95700128-c749-405e-9d84-b30742b178fd",
   "metadata": {},
   "outputs": [
    {
     "name": "stdout",
     "output_type": "stream",
     "text": [
      "2\n",
      "24\n",
      "720\n",
      "40320\n",
      "3628800\n",
      "479001600\n",
      "87178291200\n",
      "20922789888000\n",
      "6402373705728000\n",
      "2432902008176640000\n"
     ]
    }
   ],
   "source": [
    "def facte():\n",
    "    f=1\n",
    "    for i in range(1,21):\n",
    "        f=f*i\n",
    "        if(i%2==0):\n",
    "            print(f)\n",
    "facte()"
   ]
  },
  {
   "cell_type": "code",
   "execution_count": 57,
   "id": "e5de8b63-1456-4974-8774-4b43efe36dcf",
   "metadata": {},
   "outputs": [
    {
     "name": "stdout",
     "output_type": "stream",
     "text": [
      "[2, 4, 6, 8, 10, 12, 14, 16, 18, 20]\n",
      "[20, 18, 16, 14, 12, 10, 8, 6, 4, 2]\n"
     ]
    }
   ],
   "source": [
    "def evnre():\n",
    "    en=[]\n",
    "  \n",
    "    for i in range(1,21):\n",
    "        if(i%2==0):\n",
    "            en.append(i)\n",
    "    print(en)\n",
    "    en.reverse()\n",
    "    print(en)\n",
    "evnre()\n",
    "            "
   ]
  },
  {
   "cell_type": "code",
   "execution_count": 58,
   "id": "581ec1f2-d345-4502-99f3-97bc942ee15e",
   "metadata": {},
   "outputs": [
    {
     "name": "stdin",
     "output_type": "stream",
     "text": [
      "Enter the n value :  6\n",
      "enter   12\n",
      "enter   3\n",
      "enter   56\n",
      "enter   7\n",
      "enter   9\n",
      "enter   23\n",
      "enter   5\n"
     ]
    },
    {
     "name": "stdout",
     "output_type": "stream",
     "text": [
      "[12, 56]\n",
      "[3, 7, 9, 23, 5]\n"
     ]
    }
   ],
   "source": [
    "def sep():\n",
    "    od=[]\n",
    "    en=[]\n",
    "    n=int(input(\"Enter the n value : \"))\n",
    "    for i in range(n+1):\n",
    "        x=int(input(\"enter  \"))\n",
    "        if(x%2==0):\n",
    "            od.append(x)\n",
    "        else:\n",
    "            en.append(x)\n",
    "    print(od)\n",
    "    print(en)\n",
    "            \n",
    "sep()"
   ]
  },
  {
   "cell_type": "code",
   "execution_count": 61,
   "id": "d2d565ea-919c-4e76-b15d-120f7e50fda6",
   "metadata": {},
   "outputs": [
    {
     "name": "stdin",
     "output_type": "stream",
     "text": [
      "enter  1\n",
      "enter  2\n",
      "enter  3\n",
      "enter  4\n",
      "enter  5\n",
      "enter  6\n",
      "enter  7\n",
      "enter  8\n",
      "enter  9\n",
      "enter  1\n",
      "enter  1\n"
     ]
    },
    {
     "name": "stdout",
     "output_type": "stream",
     "text": [
      "4\n"
     ]
    }
   ],
   "source": [
    "def avg():\n",
    "    n=10\n",
    "    s=0\n",
    "    for i in range(n+1):\n",
    "        x=int(input(\"enter \" ))\n",
    "        s=s+x\n",
    "    a=s//10\n",
    "    print(a)\n",
    "avg()"
   ]
  },
  {
   "cell_type": "code",
   "execution_count": 66,
   "id": "1d0c2fa1-0e3e-4399-8559-7529c327be9d",
   "metadata": {},
   "outputs": [
    {
     "name": "stdout",
     "output_type": "stream",
     "text": [
      "121\n",
      "143\n",
      "165\n",
      "187\n"
     ]
    }
   ],
   "source": [
    "def num():\n",
    "    for i in range(100,200):\n",
    "        if((i%11)==0 and i%2!=0):\n",
    "            print(i)\n",
    "        \n",
    "num()"
   ]
  },
  {
   "cell_type": "code",
   "execution_count": 68,
   "id": "5b1ec26e-6d4a-4043-8b11-f42416f56b73",
   "metadata": {},
   "outputs": [
    {
     "name": "stdin",
     "output_type": "stream",
     "text": [
      "enter  3\n"
     ]
    },
    {
     "name": "stdout",
     "output_type": "stream",
     "text": [
      "6\n"
     ]
    },
    {
     "name": "stdin",
     "output_type": "stream",
     "text": [
      "enter  5\n"
     ]
    },
    {
     "name": "stdout",
     "output_type": "stream",
     "text": [
      "120\n"
     ]
    },
    {
     "name": "stdin",
     "output_type": "stream",
     "text": [
      "enter  2\n"
     ]
    },
    {
     "name": "stdout",
     "output_type": "stream",
     "text": [
      "2\n"
     ]
    },
    {
     "name": "stdin",
     "output_type": "stream",
     "text": [
      "enter  6\n"
     ]
    },
    {
     "name": "stdout",
     "output_type": "stream",
     "text": [
      "720\n"
     ]
    },
    {
     "name": "stdin",
     "output_type": "stream",
     "text": [
      "enter  1\n"
     ]
    },
    {
     "name": "stdout",
     "output_type": "stream",
     "text": [
      "1\n"
     ]
    },
    {
     "name": "stdin",
     "output_type": "stream",
     "text": [
      "enter  2\n"
     ]
    },
    {
     "name": "stdout",
     "output_type": "stream",
     "text": [
      "2\n"
     ]
    },
    {
     "name": "stdin",
     "output_type": "stream",
     "text": [
      "enter  3\n"
     ]
    },
    {
     "name": "stdout",
     "output_type": "stream",
     "text": [
      "6\n"
     ]
    },
    {
     "name": "stdin",
     "output_type": "stream",
     "text": [
      "enter  4\n"
     ]
    },
    {
     "name": "stdout",
     "output_type": "stream",
     "text": [
      "24\n"
     ]
    },
    {
     "name": "stdin",
     "output_type": "stream",
     "text": [
      "enter  5\n"
     ]
    },
    {
     "name": "stdout",
     "output_type": "stream",
     "text": [
      "120\n"
     ]
    },
    {
     "name": "stdin",
     "output_type": "stream",
     "text": [
      "enter  6\n"
     ]
    },
    {
     "name": "stdout",
     "output_type": "stream",
     "text": [
      "720\n"
     ]
    },
    {
     "name": "stdin",
     "output_type": "stream",
     "text": [
      "enter  7\n"
     ]
    },
    {
     "name": "stdout",
     "output_type": "stream",
     "text": [
      "5040\n"
     ]
    },
    {
     "name": "stdin",
     "output_type": "stream",
     "text": [
      "enter  0\n"
     ]
    }
   ],
   "source": [
    "def until():\n",
    "    while(1):\n",
    "        n=int(input(\"enter \"))\n",
    "        if(n!=0):\n",
    "            f=1\n",
    "            for i in range(1,n+1):\n",
    "                f=f*i\n",
    "            print(f)\n",
    "        else:\n",
    "            break\n",
    "until()\n"
   ]
  },
  {
   "cell_type": "code",
   "execution_count": 72,
   "id": "e9b706d5-76c2-4611-a134-d61a73d06cc6",
   "metadata": {},
   "outputs": [
    {
     "name": "stdin",
     "output_type": "stream",
     "text": [
      "Enter n value  4\n",
      "enter  12\n",
      "enter  6\n",
      "enter  45\n",
      "enter  111\n",
      "enter  6\n"
     ]
    },
    {
     "name": "stdout",
     "output_type": "stream",
     "text": [
      "[12, 6, 45, 111, 6]\n",
      "5\n",
      "[12, 6]\n",
      "[45, 111, 6]\n",
      "[6, 12]\n",
      "[111, 45, 6]\n",
      "[6, 12, 111, 45, 6]\n"
     ]
    }
   ],
   "source": [
    "def half():\n",
    "    arr=[]\n",
    "    arr1=[]\n",
    "    arr2=[]\n",
    "    mp=[]\n",
    "    n=int(input(\"Enter n value \"))\n",
    "    for i in range(n+1):\n",
    "        x=int(input(\"enter \"))\n",
    "        arr.append(x)\n",
    "    print(arr)\n",
    "    m=len(arr)\n",
    "    print(m)\n",
    "    a=m//2\n",
    "    for i in range(0,m):\n",
    "        if(i<a):\n",
    "           arr1.append(arr[i])\n",
    "        else:\n",
    "          arr2.append(arr[i])\n",
    "    print(arr1)\n",
    "    print(arr2)\n",
    "    arr1.sort()\n",
    "    print(arr1)\n",
    "    arr2.sort()\n",
    "    arr2.reverse()\n",
    "    print(arr2)\n",
    "    mp=arr1+arr2\n",
    "    print(mp)\n",
    "   \n",
    "half()"
   ]
  },
  {
   "cell_type": "code",
   "execution_count": 5,
   "id": "03c34fd3-f96d-4749-ad95-78398987e06d",
   "metadata": {},
   "outputs": [
    {
     "name": "stdout",
     "output_type": "stream",
     "text": [
      "3\n",
      "{'one': 'ommm', 'two': 'ommm', 'thre': 'ommm'}\n"
     ]
    }
   ],
   "source": [
    "d=[\"one\",\"two\",\"thre\"]\n",
    "\n",
    "l=len(d)\n",
    "print(l)\n",
    "ol=[]\n",
    "for i in range(l+1):\n",
    "    m=(\"ommm\")\n",
    "    ol.append( m) \n",
    "p=dict(zip(d,ol))\n",
    "print(p)"
   ]
  },
  {
   "cell_type": "code",
   "execution_count": 9,
   "id": "9f16ff7c-0227-439b-8971-cfa4932d02c7",
   "metadata": {},
   "outputs": [
    {
     "name": "stdin",
     "output_type": "stream",
     "text": [
      "Enter the number :  4\n"
     ]
    },
    {
     "name": "stdout",
     "output_type": "stream",
     "text": [
      "2\n"
     ]
    },
    {
     "name": "stdin",
     "output_type": "stream",
     "text": [
      "Enter the number :  2\n"
     ]
    },
    {
     "name": "stdout",
     "output_type": "stream",
     "text": [
      "16\n"
     ]
    }
   ],
   "source": [
    "n=int(input(\"Enter the number : \"))\n",
    "print(n>>1)\n",
    "m=int(input(\"Enter the number : \"))\n",
    "print(m<<3)\n"
   ]
  },
  {
   "cell_type": "code",
   "execution_count": 13,
   "id": "1b69c8d1-08ad-4538-b2ed-efb510656561",
   "metadata": {},
   "outputs": [
    {
     "name": "stdout",
     "output_type": "stream",
     "text": [
      "8\n",
      "11\n",
      "6\n",
      "42\n"
     ]
    }
   ],
   "source": [
    "a=8\n",
    "print(a)\n",
    "a+=3\n",
    "print(a)\n",
    "a-=5\n",
    "print(a)\n",
    "a*=7\n",
    "print(a)"
   ]
  },
  {
   "cell_type": "code",
   "execution_count": 26,
   "id": "249a0ae6-50ea-4f7a-a63b-6cf9f5cfdbab",
   "metadata": {},
   "outputs": [
    {
     "name": "stdout",
     "output_type": "stream",
     "text": [
      "16\n"
     ]
    }
   ],
   "source": [
    "def rann():\n",
    "    import random\n",
    "    c=random.randint(1,20)\n",
    "    print(c)\n",
    "rann()"
   ]
  },
  {
   "cell_type": "code",
   "execution_count": 34,
   "id": "9f597d39-78a6-4d28-95c6-5fa4cf9b2a8e",
   "metadata": {},
   "outputs": [
    {
     "ename": "SyntaxError",
     "evalue": "invalid non-printable character U+00A0 (3075023154.py, line 1)",
     "output_type": "error",
     "traceback": [
      "\u001b[1;36m  Cell \u001b[1;32mIn[34], line 1\u001b[1;36m\u001b[0m\n\u001b[1;33m    import turtle\u001b[0m\n\u001b[1;37m                 ^\u001b[0m\n\u001b[1;31mSyntaxError\u001b[0m\u001b[1;31m:\u001b[0m invalid non-printable character U+00A0\n"
     ]
    }
   ],
   "source": [
    "import turtle\n",
    " \n",
    " \n",
    "tur = turtle.Turtle()\n",
    "tur.speed(20)\n",
    "tur.color(\"black\", \"orange\")\n",
    "tur.begin_fill()\n",
    " \n",
    "for i in range(50):\n",
    "    tur.forward(300)\n",
    "    tur.left(170)\n",
    " \n",
    "tur.end_fill()\n",
    "turtle.done()\n"
   ]
  }
 ],
 "metadata": {
  "kernelspec": {
   "display_name": "Python 3 (ipykernel)",
   "language": "python",
   "name": "python3"
  },
  "language_info": {
   "codemirror_mode": {
    "name": "ipython",
    "version": 3
   },
   "file_extension": ".py",
   "mimetype": "text/x-python",
   "name": "python",
   "nbconvert_exporter": "python",
   "pygments_lexer": "ipython3",
   "version": "3.11.5"
  }
 },
 "nbformat": 4,
 "nbformat_minor": 5
}
